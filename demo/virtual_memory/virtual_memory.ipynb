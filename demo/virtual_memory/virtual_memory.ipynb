{
 "cells": [
  {
   "cell_type": "code",
   "execution_count": 1,
   "id": "a7b71d3c-90d0-4e35-951b-8b15ca3e392b",
   "metadata": {
    "deletable": false,
    "editable": false,
    "init_cell": true,
    "tags": []
   },
   "outputs": [
    {
     "name": "stderr",
     "output_type": "stream",
     "text": [
      "/nfshome/htseng/courses/CS203/demo/virtual_memory/notebook.py:227: SyntaxWarning: invalid escape sequence '\\s'\n",
      "  show = (f\"[\\s\\*]{show}\\s*\\(\", \"^\\}\")\n",
      "/nfshome/htseng/courses/CS203/demo/virtual_memory/notebook.py:227: SyntaxWarning: invalid escape sequence '\\s'\n",
      "  show = (f\"[\\s\\*]{show}\\s*\\(\", \"^\\}\")\n",
      "/nfshome/htseng/courses/CS203/demo/virtual_memory/notebook.py:227: SyntaxWarning: invalid escape sequence '\\}'\n",
      "  show = (f\"[\\s\\*]{show}\\s*\\(\", \"^\\}\")\n"
     ]
    },
    {
     "data": {
      "text/html": [
       "<style>h1 {font-size: 2vw;} h2 {font-size: 1.5vw;} p {font-size: 1.4vw;} div.prompt, code, output, prompt, kbd, pre, samp {font-family: 'SF Mono', 'Courier New', Courier, monospace, sans-serif !important;font-size: 1.4vw !important;}</style>"
      ],
      "text/plain": [
       "<IPython.core.display.HTML object>"
      ]
     },
     "metadata": {},
     "output_type": "display_data"
    }
   ],
   "source": [
    "# Please execute/shift-return this cell everytime you run the notebook.  Don't edit it. \n",
    "%load_ext autoreload\n",
    "%autoreload 2\n",
    "from notebook import * "
   ]
  },
  {
   "cell_type": "markdown",
   "id": "0df8e935-5148-4902-a1b6-7294eab2008c",
   "metadata": {},
   "source": [
    "# Virtual Memory\n",
    "\n",
    "What if we run the following program on a machine with 32GB memory?"
   ]
  },
  {
   "cell_type": "code",
   "execution_count": 2,
   "id": "6a22c43b-e2d3-4632-bf24-430129469b66",
   "metadata": {},
   "outputs": [
    {
     "data": {
      "text/html": [
       "<style>pre { line-height: 125%; }\n",
       "td.linenos .normal { color: inherit; background-color: transparent; padding-left: 5px; padding-right: 5px; }\n",
       "span.linenos { color: inherit; background-color: transparent; padding-left: 5px; padding-right: 5px; }\n",
       "td.linenos .special { color: #000000; background-color: #ffffc0; padding-left: 5px; padding-right: 5px; }\n",
       "span.linenos.special { color: #000000; background-color: #ffffc0; padding-left: 5px; padding-right: 5px; }\n",
       ".output_html .hll { background-color: #ffffcc }\n",
       ".output_html { background: #f8f8f8; }\n",
       ".output_html .c { color: #3D7B7B; font-style: italic } /* Comment */\n",
       ".output_html .err { border: 1px solid #FF0000 } /* Error */\n",
       ".output_html .k { color: #008000; font-weight: bold } /* Keyword */\n",
       ".output_html .o { color: #666666 } /* Operator */\n",
       ".output_html .ch { color: #3D7B7B; font-style: italic } /* Comment.Hashbang */\n",
       ".output_html .cm { color: #3D7B7B; font-style: italic } /* Comment.Multiline */\n",
       ".output_html .cp { color: #9C6500 } /* Comment.Preproc */\n",
       ".output_html .cpf { color: #3D7B7B; font-style: italic } /* Comment.PreprocFile */\n",
       ".output_html .c1 { color: #3D7B7B; font-style: italic } /* Comment.Single */\n",
       ".output_html .cs { color: #3D7B7B; font-style: italic } /* Comment.Special */\n",
       ".output_html .gd { color: #A00000 } /* Generic.Deleted */\n",
       ".output_html .ge { font-style: italic } /* Generic.Emph */\n",
       ".output_html .gr { color: #E40000 } /* Generic.Error */\n",
       ".output_html .gh { color: #000080; font-weight: bold } /* Generic.Heading */\n",
       ".output_html .gi { color: #008400 } /* Generic.Inserted */\n",
       ".output_html .go { color: #717171 } /* Generic.Output */\n",
       ".output_html .gp { color: #000080; font-weight: bold } /* Generic.Prompt */\n",
       ".output_html .gs { font-weight: bold } /* Generic.Strong */\n",
       ".output_html .gu { color: #800080; font-weight: bold } /* Generic.Subheading */\n",
       ".output_html .gt { color: #0044DD } /* Generic.Traceback */\n",
       ".output_html .kc { color: #008000; font-weight: bold } /* Keyword.Constant */\n",
       ".output_html .kd { color: #008000; font-weight: bold } /* Keyword.Declaration */\n",
       ".output_html .kn { color: #008000; font-weight: bold } /* Keyword.Namespace */\n",
       ".output_html .kp { color: #008000 } /* Keyword.Pseudo */\n",
       ".output_html .kr { color: #008000; font-weight: bold } /* Keyword.Reserved */\n",
       ".output_html .kt { color: #B00040 } /* Keyword.Type */\n",
       ".output_html .m { color: #666666 } /* Literal.Number */\n",
       ".output_html .s { color: #BA2121 } /* Literal.String */\n",
       ".output_html .na { color: #687822 } /* Name.Attribute */\n",
       ".output_html .nb { color: #008000 } /* Name.Builtin */\n",
       ".output_html .nc { color: #0000FF; font-weight: bold } /* Name.Class */\n",
       ".output_html .no { color: #880000 } /* Name.Constant */\n",
       ".output_html .nd { color: #AA22FF } /* Name.Decorator */\n",
       ".output_html .ni { color: #717171; font-weight: bold } /* Name.Entity */\n",
       ".output_html .ne { color: #CB3F38; font-weight: bold } /* Name.Exception */\n",
       ".output_html .nf { color: #0000FF } /* Name.Function */\n",
       ".output_html .nl { color: #767600 } /* Name.Label */\n",
       ".output_html .nn { color: #0000FF; font-weight: bold } /* Name.Namespace */\n",
       ".output_html .nt { color: #008000; font-weight: bold } /* Name.Tag */\n",
       ".output_html .nv { color: #19177C } /* Name.Variable */\n",
       ".output_html .ow { color: #AA22FF; font-weight: bold } /* Operator.Word */\n",
       ".output_html .w { color: #bbbbbb } /* Text.Whitespace */\n",
       ".output_html .mb { color: #666666 } /* Literal.Number.Bin */\n",
       ".output_html .mf { color: #666666 } /* Literal.Number.Float */\n",
       ".output_html .mh { color: #666666 } /* Literal.Number.Hex */\n",
       ".output_html .mi { color: #666666 } /* Literal.Number.Integer */\n",
       ".output_html .mo { color: #666666 } /* Literal.Number.Oct */\n",
       ".output_html .sa { color: #BA2121 } /* Literal.String.Affix */\n",
       ".output_html .sb { color: #BA2121 } /* Literal.String.Backtick */\n",
       ".output_html .sc { color: #BA2121 } /* Literal.String.Char */\n",
       ".output_html .dl { color: #BA2121 } /* Literal.String.Delimiter */\n",
       ".output_html .sd { color: #BA2121; font-style: italic } /* Literal.String.Doc */\n",
       ".output_html .s2 { color: #BA2121 } /* Literal.String.Double */\n",
       ".output_html .se { color: #AA5D1F; font-weight: bold } /* Literal.String.Escape */\n",
       ".output_html .sh { color: #BA2121 } /* Literal.String.Heredoc */\n",
       ".output_html .si { color: #A45A77; font-weight: bold } /* Literal.String.Interpol */\n",
       ".output_html .sx { color: #008000 } /* Literal.String.Other */\n",
       ".output_html .sr { color: #A45A77 } /* Literal.String.Regex */\n",
       ".output_html .s1 { color: #BA2121 } /* Literal.String.Single */\n",
       ".output_html .ss { color: #19177C } /* Literal.String.Symbol */\n",
       ".output_html .bp { color: #008000 } /* Name.Builtin.Pseudo */\n",
       ".output_html .fm { color: #0000FF } /* Name.Function.Magic */\n",
       ".output_html .vc { color: #19177C } /* Name.Variable.Class */\n",
       ".output_html .vg { color: #19177C } /* Name.Variable.Global */\n",
       ".output_html .vi { color: #19177C } /* Name.Variable.Instance */\n",
       ".output_html .vm { color: #19177C } /* Name.Variable.Magic */\n",
       ".output_html .il { color: #666666 } /* Literal.Number.Integer.Long */</style><div class=\"highlight\"><pre><span></span><span class=\"c1\">// memory_allocation.c:1-37 (37 lines)</span>\n",
       "<span class=\"cp\">#define _GNU_SOURCE  </span>\n",
       "<span class=\"cp\">#include</span><span class=\"w\"> </span><span class=\"cpf\">&lt;unistd.h&gt;</span><span class=\"cp\"></span>\n",
       "<span class=\"cp\">#include</span><span class=\"w\"> </span><span class=\"cpf\">&lt;stdio.h&gt;</span><span class=\"cp\"></span>\n",
       "<span class=\"cp\">#include</span><span class=\"w\"> </span><span class=\"cpf\">&lt;stdlib.h&gt;</span><span class=\"cp\"></span>\n",
       "<span class=\"cp\">#include</span><span class=\"w\"> </span><span class=\"cpf\">&lt;assert.h&gt;</span><span class=\"cp\"></span>\n",
       "<span class=\"cp\">#include</span><span class=\"w\"> </span><span class=\"cpf\">&lt;sched.h&gt;</span><span class=\"cp\"></span>\n",
       "<span class=\"cp\">#include</span><span class=\"w\"> </span><span class=\"cpf\">&lt;sys/syscall.h&gt;</span><span class=\"cp\"></span>\n",
       "<span class=\"cp\">#include</span><span class=\"w\"> </span><span class=\"cpf\">&lt;time.h&gt;</span><span class=\"cp\"></span>\n",
       "\n",
       "<span class=\"c1\">//#define dim 32768</span>\n",
       "<span class=\"c1\">//#define dim 49152</span>\n",
       "<span class=\"kt\">int</span><span class=\"w\"> </span><span class=\"nf\">main</span><span class=\"p\">(</span><span class=\"kt\">int</span><span class=\"w\"> </span><span class=\"n\">argc</span><span class=\"p\">,</span><span class=\"w\"> </span><span class=\"kt\">char</span><span class=\"w\"> </span><span class=\"o\">*</span><span class=\"n\">argv</span><span class=\"p\">[])</span><span class=\"w\"></span>\n",
       "<span class=\"p\">{</span><span class=\"w\"></span>\n",
       "<span class=\"w\">    </span><span class=\"kt\">int</span><span class=\"w\"> </span><span class=\"n\">i</span><span class=\"p\">,</span><span class=\"n\">j</span><span class=\"p\">;</span><span class=\"w\"></span>\n",
       "<span class=\"w\">    </span><span class=\"kt\">double</span><span class=\"w\"> </span><span class=\"o\">*</span><span class=\"n\">a</span><span class=\"p\">;</span><span class=\"w\"></span>\n",
       "<span class=\"w\">    </span><span class=\"kt\">double</span><span class=\"w\"> </span><span class=\"n\">sum</span><span class=\"o\">=</span><span class=\"mi\">0</span><span class=\"p\">,</span><span class=\"w\"> </span><span class=\"n\">average</span><span class=\"p\">;</span><span class=\"w\"></span>\n",
       "<span class=\"w\">    </span><span class=\"kt\">int</span><span class=\"w\"> </span><span class=\"n\">dim</span><span class=\"o\">=</span><span class=\"mi\">32768</span><span class=\"p\">;</span><span class=\"w\"></span>\n",
       "<span class=\"w\">    </span><span class=\"k\">if</span><span class=\"p\">(</span><span class=\"n\">argc</span><span class=\"w\"> </span><span class=\"o\">&lt;</span><span class=\"w\"> </span><span class=\"mi\">2</span><span class=\"p\">)</span><span class=\"w\"></span>\n",
       "<span class=\"w\">    </span><span class=\"p\">{</span><span class=\"w\"></span>\n",
       "<span class=\"w\">        </span><span class=\"n\">fprintf</span><span class=\"p\">(</span><span class=\"n\">stderr</span><span class=\"p\">,</span><span class=\"w\"> </span><span class=\"s\">&quot;Usage: %s dimension</span><span class=\"se\">\\n</span><span class=\"s\">&quot;</span><span class=\"p\">,</span><span class=\"n\">argv</span><span class=\"p\">[</span><span class=\"mi\">0</span><span class=\"p\">]);</span><span class=\"w\"></span>\n",
       "<span class=\"w\">        </span><span class=\"n\">exit</span><span class=\"p\">(</span><span class=\"mi\">1</span><span class=\"p\">);</span><span class=\"w\"></span>\n",
       "<span class=\"w\">    </span><span class=\"p\">}</span><span class=\"w\"></span>\n",
       "<span class=\"w\">    </span><span class=\"n\">dim</span><span class=\"w\"> </span><span class=\"o\">=</span><span class=\"w\"> </span><span class=\"n\">atoi</span><span class=\"p\">(</span><span class=\"n\">argv</span><span class=\"p\">[</span><span class=\"mi\">1</span><span class=\"p\">]);</span><span class=\"w\"></span>\n",
       "<span class=\"w\">    </span><span class=\"n\">a</span><span class=\"w\"> </span><span class=\"o\">=</span><span class=\"w\"> </span><span class=\"p\">(</span><span class=\"kt\">double</span><span class=\"w\"> </span><span class=\"o\">*</span><span class=\"p\">)</span><span class=\"n\">malloc</span><span class=\"p\">(</span><span class=\"k\">sizeof</span><span class=\"p\">(</span><span class=\"kt\">double</span><span class=\"p\">)</span><span class=\"o\">*</span><span class=\"n\">dim</span><span class=\"o\">*</span><span class=\"n\">dim</span><span class=\"p\">);</span><span class=\"w\"></span>\n",
       "<span class=\"c1\">//    for(i = 0 ; i &lt; dim; i++)</span>\n",
       "<span class=\"c1\">//        a[i] = (double *)malloc(sizeof(double)*dim);</span>\n",
       "<span class=\"w\">    </span><span class=\"k\">for</span><span class=\"p\">(</span><span class=\"n\">i</span><span class=\"w\"> </span><span class=\"o\">=</span><span class=\"w\"> </span><span class=\"mi\">0</span><span class=\"w\"> </span><span class=\"p\">;</span><span class=\"w\"> </span><span class=\"n\">i</span><span class=\"w\"> </span><span class=\"o\">&lt;</span><span class=\"w\"> </span><span class=\"n\">dim</span><span class=\"p\">;</span><span class=\"w\"> </span><span class=\"n\">i</span><span class=\"o\">++</span><span class=\"p\">)</span><span class=\"w\"></span>\n",
       "<span class=\"w\">        </span><span class=\"k\">for</span><span class=\"p\">(</span><span class=\"n\">j</span><span class=\"w\"> </span><span class=\"o\">=</span><span class=\"w\"> </span><span class=\"mi\">0</span><span class=\"w\"> </span><span class=\"p\">;</span><span class=\"w\"> </span><span class=\"n\">j</span><span class=\"w\"> </span><span class=\"o\">&lt;</span><span class=\"w\"> </span><span class=\"n\">dim</span><span class=\"p\">;</span><span class=\"w\"> </span><span class=\"n\">j</span><span class=\"o\">++</span><span class=\"p\">)</span><span class=\"w\"></span>\n",
       "<span class=\"w\">            </span><span class=\"n\">a</span><span class=\"p\">[</span><span class=\"n\">i</span><span class=\"o\">*</span><span class=\"n\">dim</span><span class=\"o\">+</span><span class=\"n\">j</span><span class=\"p\">]</span><span class=\"w\"> </span><span class=\"o\">=</span><span class=\"w\"> </span><span class=\"n\">rand</span><span class=\"p\">();</span><span class=\"w\"></span>\n",
       "<span class=\"w\">    </span><span class=\"k\">for</span><span class=\"p\">(</span><span class=\"n\">i</span><span class=\"w\"> </span><span class=\"o\">=</span><span class=\"w\"> </span><span class=\"mi\">0</span><span class=\"w\"> </span><span class=\"p\">;</span><span class=\"w\"> </span><span class=\"n\">i</span><span class=\"w\"> </span><span class=\"o\">&lt;</span><span class=\"w\"> </span><span class=\"n\">dim</span><span class=\"p\">;</span><span class=\"w\"> </span><span class=\"n\">i</span><span class=\"o\">++</span><span class=\"p\">)</span><span class=\"w\"></span>\n",
       "<span class=\"w\">        </span><span class=\"k\">for</span><span class=\"p\">(</span><span class=\"n\">j</span><span class=\"w\"> </span><span class=\"o\">=</span><span class=\"w\"> </span><span class=\"mi\">0</span><span class=\"w\"> </span><span class=\"p\">;</span><span class=\"w\"> </span><span class=\"n\">j</span><span class=\"w\"> </span><span class=\"o\">&lt;</span><span class=\"w\"> </span><span class=\"n\">dim</span><span class=\"p\">;</span><span class=\"w\"> </span><span class=\"n\">j</span><span class=\"o\">++</span><span class=\"p\">)</span><span class=\"w\"></span>\n",
       "<span class=\"w\">            </span><span class=\"n\">sum</span><span class=\"o\">+=</span><span class=\"n\">a</span><span class=\"p\">[</span><span class=\"n\">i</span><span class=\"o\">*</span><span class=\"n\">dim</span><span class=\"o\">+</span><span class=\"n\">j</span><span class=\"p\">];</span><span class=\"w\"></span>\n",
       "<span class=\"w\">    </span><span class=\"n\">average</span><span class=\"w\"> </span><span class=\"o\">=</span><span class=\"w\"> </span><span class=\"n\">sum</span><span class=\"o\">/</span><span class=\"p\">(</span><span class=\"n\">dim</span><span class=\"o\">*</span><span class=\"n\">dim</span><span class=\"p\">);</span><span class=\"w\"></span>\n",
       "<span class=\"w\">    </span><span class=\"n\">fprintf</span><span class=\"p\">(</span><span class=\"n\">stderr</span><span class=\"p\">,</span><span class=\"s\">&quot;average: %lf</span><span class=\"se\">\\n</span><span class=\"s\">&quot;</span><span class=\"p\">,</span><span class=\"n\">average</span><span class=\"p\">);</span><span class=\"w\"></span>\n",
       "<span class=\"w\">    </span><span class=\"n\">free</span><span class=\"p\">(</span><span class=\"n\">a</span><span class=\"p\">);</span><span class=\"w\"></span>\n",
       "<span class=\"w\">    </span><span class=\"k\">return</span><span class=\"w\"> </span><span class=\"mi\">0</span><span class=\"p\">;</span><span class=\"w\"></span>\n",
       "<span class=\"p\">}</span><span class=\"w\"></span>\n",
       "</pre></div>\n"
      ],
      "text/latex": [
       "\\begin{Verbatim}[commandchars=\\\\\\{\\}]\n",
       "\\PY{c+c1}{// memory\\PYZus{}allocation.c:1\\PYZhy{}37 (37 lines)}\n",
       "\\PY{c+cp}{\\PYZsh{}}\\PY{c+cp}{define \\PYZus{}GNU\\PYZus{}SOURCE  }\n",
       "\\PY{c+cp}{\\PYZsh{}}\\PY{c+cp}{include}\\PY{+w}{ }\\PY{c+cpf}{\\PYZlt{}unistd.h\\PYZgt{}}\n",
       "\\PY{c+cp}{\\PYZsh{}}\\PY{c+cp}{include}\\PY{+w}{ }\\PY{c+cpf}{\\PYZlt{}stdio.h\\PYZgt{}}\n",
       "\\PY{c+cp}{\\PYZsh{}}\\PY{c+cp}{include}\\PY{+w}{ }\\PY{c+cpf}{\\PYZlt{}stdlib.h\\PYZgt{}}\n",
       "\\PY{c+cp}{\\PYZsh{}}\\PY{c+cp}{include}\\PY{+w}{ }\\PY{c+cpf}{\\PYZlt{}assert.h\\PYZgt{}}\n",
       "\\PY{c+cp}{\\PYZsh{}}\\PY{c+cp}{include}\\PY{+w}{ }\\PY{c+cpf}{\\PYZlt{}sched.h\\PYZgt{}}\n",
       "\\PY{c+cp}{\\PYZsh{}}\\PY{c+cp}{include}\\PY{+w}{ }\\PY{c+cpf}{\\PYZlt{}sys/syscall.h\\PYZgt{}}\n",
       "\\PY{c+cp}{\\PYZsh{}}\\PY{c+cp}{include}\\PY{+w}{ }\\PY{c+cpf}{\\PYZlt{}time.h\\PYZgt{}}\n",
       "\n",
       "\\PY{c+c1}{//\\PYZsh{}define dim 32768}\n",
       "\\PY{c+c1}{//\\PYZsh{}define dim 49152}\n",
       "\\PY{k+kt}{int}\\PY{+w}{ }\\PY{n+nf}{main}\\PY{p}{(}\\PY{k+kt}{int}\\PY{+w}{ }\\PY{n}{argc}\\PY{p}{,}\\PY{+w}{ }\\PY{k+kt}{char}\\PY{+w}{ }\\PY{o}{*}\\PY{n}{argv}\\PY{p}{[}\\PY{p}{]}\\PY{p}{)}\n",
       "\\PY{p}{\\PYZob{}}\n",
       "\\PY{+w}{    }\\PY{k+kt}{int}\\PY{+w}{ }\\PY{n}{i}\\PY{p}{,}\\PY{n}{j}\\PY{p}{;}\n",
       "\\PY{+w}{    }\\PY{k+kt}{double}\\PY{+w}{ }\\PY{o}{*}\\PY{n}{a}\\PY{p}{;}\n",
       "\\PY{+w}{    }\\PY{k+kt}{double}\\PY{+w}{ }\\PY{n}{sum}\\PY{o}{=}\\PY{l+m+mi}{0}\\PY{p}{,}\\PY{+w}{ }\\PY{n}{average}\\PY{p}{;}\n",
       "\\PY{+w}{    }\\PY{k+kt}{int}\\PY{+w}{ }\\PY{n}{dim}\\PY{o}{=}\\PY{l+m+mi}{32768}\\PY{p}{;}\n",
       "\\PY{+w}{    }\\PY{k}{if}\\PY{p}{(}\\PY{n}{argc}\\PY{+w}{ }\\PY{o}{\\PYZlt{}}\\PY{+w}{ }\\PY{l+m+mi}{2}\\PY{p}{)}\n",
       "\\PY{+w}{    }\\PY{p}{\\PYZob{}}\n",
       "\\PY{+w}{        }\\PY{n}{fprintf}\\PY{p}{(}\\PY{n}{stderr}\\PY{p}{,}\\PY{+w}{ }\\PY{l+s}{\\PYZdq{}}\\PY{l+s}{Usage: \\PYZpc{}s dimension}\\PY{l+s+se}{\\PYZbs{}n}\\PY{l+s}{\\PYZdq{}}\\PY{p}{,}\\PY{n}{argv}\\PY{p}{[}\\PY{l+m+mi}{0}\\PY{p}{]}\\PY{p}{)}\\PY{p}{;}\n",
       "\\PY{+w}{        }\\PY{n}{exit}\\PY{p}{(}\\PY{l+m+mi}{1}\\PY{p}{)}\\PY{p}{;}\n",
       "\\PY{+w}{    }\\PY{p}{\\PYZcb{}}\n",
       "\\PY{+w}{    }\\PY{n}{dim}\\PY{+w}{ }\\PY{o}{=}\\PY{+w}{ }\\PY{n}{atoi}\\PY{p}{(}\\PY{n}{argv}\\PY{p}{[}\\PY{l+m+mi}{1}\\PY{p}{]}\\PY{p}{)}\\PY{p}{;}\n",
       "\\PY{+w}{    }\\PY{n}{a}\\PY{+w}{ }\\PY{o}{=}\\PY{+w}{ }\\PY{p}{(}\\PY{k+kt}{double}\\PY{+w}{ }\\PY{o}{*}\\PY{p}{)}\\PY{n}{malloc}\\PY{p}{(}\\PY{k}{sizeof}\\PY{p}{(}\\PY{k+kt}{double}\\PY{p}{)}\\PY{o}{*}\\PY{n}{dim}\\PY{o}{*}\\PY{n}{dim}\\PY{p}{)}\\PY{p}{;}\n",
       "\\PY{c+c1}{//    for(i = 0 ; i \\PYZlt{} dim; i++)}\n",
       "\\PY{c+c1}{//        a[i] = (double *)malloc(sizeof(double)*dim);}\n",
       "\\PY{+w}{    }\\PY{k}{for}\\PY{p}{(}\\PY{n}{i}\\PY{+w}{ }\\PY{o}{=}\\PY{+w}{ }\\PY{l+m+mi}{0}\\PY{+w}{ }\\PY{p}{;}\\PY{+w}{ }\\PY{n}{i}\\PY{+w}{ }\\PY{o}{\\PYZlt{}}\\PY{+w}{ }\\PY{n}{dim}\\PY{p}{;}\\PY{+w}{ }\\PY{n}{i}\\PY{o}{+}\\PY{o}{+}\\PY{p}{)}\n",
       "\\PY{+w}{        }\\PY{k}{for}\\PY{p}{(}\\PY{n}{j}\\PY{+w}{ }\\PY{o}{=}\\PY{+w}{ }\\PY{l+m+mi}{0}\\PY{+w}{ }\\PY{p}{;}\\PY{+w}{ }\\PY{n}{j}\\PY{+w}{ }\\PY{o}{\\PYZlt{}}\\PY{+w}{ }\\PY{n}{dim}\\PY{p}{;}\\PY{+w}{ }\\PY{n}{j}\\PY{o}{+}\\PY{o}{+}\\PY{p}{)}\n",
       "\\PY{+w}{            }\\PY{n}{a}\\PY{p}{[}\\PY{n}{i}\\PY{o}{*}\\PY{n}{dim}\\PY{o}{+}\\PY{n}{j}\\PY{p}{]}\\PY{+w}{ }\\PY{o}{=}\\PY{+w}{ }\\PY{n}{rand}\\PY{p}{(}\\PY{p}{)}\\PY{p}{;}\n",
       "\\PY{+w}{    }\\PY{k}{for}\\PY{p}{(}\\PY{n}{i}\\PY{+w}{ }\\PY{o}{=}\\PY{+w}{ }\\PY{l+m+mi}{0}\\PY{+w}{ }\\PY{p}{;}\\PY{+w}{ }\\PY{n}{i}\\PY{+w}{ }\\PY{o}{\\PYZlt{}}\\PY{+w}{ }\\PY{n}{dim}\\PY{p}{;}\\PY{+w}{ }\\PY{n}{i}\\PY{o}{+}\\PY{o}{+}\\PY{p}{)}\n",
       "\\PY{+w}{        }\\PY{k}{for}\\PY{p}{(}\\PY{n}{j}\\PY{+w}{ }\\PY{o}{=}\\PY{+w}{ }\\PY{l+m+mi}{0}\\PY{+w}{ }\\PY{p}{;}\\PY{+w}{ }\\PY{n}{j}\\PY{+w}{ }\\PY{o}{\\PYZlt{}}\\PY{+w}{ }\\PY{n}{dim}\\PY{p}{;}\\PY{+w}{ }\\PY{n}{j}\\PY{o}{+}\\PY{o}{+}\\PY{p}{)}\n",
       "\\PY{+w}{            }\\PY{n}{sum}\\PY{o}{+}\\PY{o}{=}\\PY{n}{a}\\PY{p}{[}\\PY{n}{i}\\PY{o}{*}\\PY{n}{dim}\\PY{o}{+}\\PY{n}{j}\\PY{p}{]}\\PY{p}{;}\n",
       "\\PY{+w}{    }\\PY{n}{average}\\PY{+w}{ }\\PY{o}{=}\\PY{+w}{ }\\PY{n}{sum}\\PY{o}{/}\\PY{p}{(}\\PY{n}{dim}\\PY{o}{*}\\PY{n}{dim}\\PY{p}{)}\\PY{p}{;}\n",
       "\\PY{+w}{    }\\PY{n}{fprintf}\\PY{p}{(}\\PY{n}{stderr}\\PY{p}{,}\\PY{l+s}{\\PYZdq{}}\\PY{l+s}{average: \\PYZpc{}lf}\\PY{l+s+se}{\\PYZbs{}n}\\PY{l+s}{\\PYZdq{}}\\PY{p}{,}\\PY{n}{average}\\PY{p}{)}\\PY{p}{;}\n",
       "\\PY{+w}{    }\\PY{n}{free}\\PY{p}{(}\\PY{n}{a}\\PY{p}{)}\\PY{p}{;}\n",
       "\\PY{+w}{    }\\PY{k}{return}\\PY{+w}{ }\\PY{l+m+mi}{0}\\PY{p}{;}\n",
       "\\PY{p}{\\PYZcb{}}\n",
       "\\end{Verbatim}\n"
      ],
      "text/plain": [
       "// memory_allocation.c:1-37 (37 lines)\n",
       "#define _GNU_SOURCE  \n",
       "#include <unistd.h>\n",
       "#include <stdio.h>\n",
       "#include <stdlib.h>\n",
       "#include <assert.h>\n",
       "#include <sched.h>\n",
       "#include <sys/syscall.h>\n",
       "#include <time.h>\n",
       "\n",
       "//#define dim 32768\n",
       "//#define dim 49152\n",
       "int main(int argc, char *argv[])\n",
       "{\n",
       "    int i,j;\n",
       "    double *a;\n",
       "    double sum=0, average;\n",
       "    int dim=32768;\n",
       "    if(argc < 2)\n",
       "    {\n",
       "        fprintf(stderr, \"Usage: %s dimension\\n\",argv[0]);\n",
       "        exit(1);\n",
       "    }\n",
       "    dim = atoi(argv[1]);\n",
       "    a = (double *)malloc(sizeof(double)*dim*dim);\n",
       "//    for(i = 0 ; i < dim; i++)\n",
       "//        a[i] = (double *)malloc(sizeof(double)*dim);\n",
       "    for(i = 0 ; i < dim; i++)\n",
       "        for(j = 0 ; j < dim; j++)\n",
       "            a[i*dim+j] = rand();\n",
       "    for(i = 0 ; i < dim; i++)\n",
       "        for(j = 0 ; j < dim; j++)\n",
       "            sum+=a[i*dim+j];\n",
       "    average = sum/(dim*dim);\n",
       "    fprintf(stderr,\"average: %lf\\n\",average);\n",
       "    free(a);\n",
       "    return 0;\n",
       "}"
      ]
     },
     "metadata": {},
     "output_type": "display_data"
    }
   ],
   "source": [
    "render_code(\"memory_allocation.c\")"
   ]
  },
  {
   "cell_type": "code",
   "execution_count": 2,
   "id": "f6498495-38d0-45a9-9bdd-f34a2d725472",
   "metadata": {},
   "outputs": [
    {
     "name": "stdout",
     "output_type": "stream",
     "text": [
      "              total        used        free      shared  buff/cache   available\n",
      "Mem:           7336        1370         576          50        5388        5697\n",
      "Swap:         32767           4       32763\n",
      "rm -f virtualization memory_allocation \n",
      "gcc -O3 memory_allocation.c -o memory_allocation\n",
      "average: 1073758125.432928\n",
      "\n",
      "real\t1m5.832s\n",
      "user\t0m30.805s\n",
      "sys\t0m13.512s\n"
     ]
    }
   ],
   "source": [
    "! ssh htseng@orin-1 \"free -m ; cd courses/CS203/demo/virtual_memory/; make clean; make ./memory_allocation; time ./memory_allocation 33000\""
   ]
  },
  {
   "cell_type": "markdown",
   "id": "1aa4d421-0fe4-45d8-81dd-38db06446d16",
   "metadata": {},
   "source": [
    "What's the output of the following code if we run 4 instances at the same time?"
   ]
  },
  {
   "cell_type": "code",
   "execution_count": 14,
   "id": "57812afe-d983-4279-be6f-eacdc10ccc12",
   "metadata": {},
   "outputs": [
    {
     "data": {
      "text/html": [
       "<style>pre { line-height: 125%; }\n",
       "td.linenos .normal { color: inherit; background-color: transparent; padding-left: 5px; padding-right: 5px; }\n",
       "span.linenos { color: inherit; background-color: transparent; padding-left: 5px; padding-right: 5px; }\n",
       "td.linenos .special { color: #000000; background-color: #ffffc0; padding-left: 5px; padding-right: 5px; }\n",
       "span.linenos.special { color: #000000; background-color: #ffffc0; padding-left: 5px; padding-right: 5px; }\n",
       ".output_html .hll { background-color: #ffffcc }\n",
       ".output_html { background: #f8f8f8; }\n",
       ".output_html .c { color: #3D7B7B; font-style: italic } /* Comment */\n",
       ".output_html .err { border: 1px solid #FF0000 } /* Error */\n",
       ".output_html .k { color: #008000; font-weight: bold } /* Keyword */\n",
       ".output_html .o { color: #666666 } /* Operator */\n",
       ".output_html .ch { color: #3D7B7B; font-style: italic } /* Comment.Hashbang */\n",
       ".output_html .cm { color: #3D7B7B; font-style: italic } /* Comment.Multiline */\n",
       ".output_html .cp { color: #9C6500 } /* Comment.Preproc */\n",
       ".output_html .cpf { color: #3D7B7B; font-style: italic } /* Comment.PreprocFile */\n",
       ".output_html .c1 { color: #3D7B7B; font-style: italic } /* Comment.Single */\n",
       ".output_html .cs { color: #3D7B7B; font-style: italic } /* Comment.Special */\n",
       ".output_html .gd { color: #A00000 } /* Generic.Deleted */\n",
       ".output_html .ge { font-style: italic } /* Generic.Emph */\n",
       ".output_html .ges { font-weight: bold; font-style: italic } /* Generic.EmphStrong */\n",
       ".output_html .gr { color: #E40000 } /* Generic.Error */\n",
       ".output_html .gh { color: #000080; font-weight: bold } /* Generic.Heading */\n",
       ".output_html .gi { color: #008400 } /* Generic.Inserted */\n",
       ".output_html .go { color: #717171 } /* Generic.Output */\n",
       ".output_html .gp { color: #000080; font-weight: bold } /* Generic.Prompt */\n",
       ".output_html .gs { font-weight: bold } /* Generic.Strong */\n",
       ".output_html .gu { color: #800080; font-weight: bold } /* Generic.Subheading */\n",
       ".output_html .gt { color: #0044DD } /* Generic.Traceback */\n",
       ".output_html .kc { color: #008000; font-weight: bold } /* Keyword.Constant */\n",
       ".output_html .kd { color: #008000; font-weight: bold } /* Keyword.Declaration */\n",
       ".output_html .kn { color: #008000; font-weight: bold } /* Keyword.Namespace */\n",
       ".output_html .kp { color: #008000 } /* Keyword.Pseudo */\n",
       ".output_html .kr { color: #008000; font-weight: bold } /* Keyword.Reserved */\n",
       ".output_html .kt { color: #B00040 } /* Keyword.Type */\n",
       ".output_html .m { color: #666666 } /* Literal.Number */\n",
       ".output_html .s { color: #BA2121 } /* Literal.String */\n",
       ".output_html .na { color: #687822 } /* Name.Attribute */\n",
       ".output_html .nb { color: #008000 } /* Name.Builtin */\n",
       ".output_html .nc { color: #0000FF; font-weight: bold } /* Name.Class */\n",
       ".output_html .no { color: #880000 } /* Name.Constant */\n",
       ".output_html .nd { color: #AA22FF } /* Name.Decorator */\n",
       ".output_html .ni { color: #717171; font-weight: bold } /* Name.Entity */\n",
       ".output_html .ne { color: #CB3F38; font-weight: bold } /* Name.Exception */\n",
       ".output_html .nf { color: #0000FF } /* Name.Function */\n",
       ".output_html .nl { color: #767600 } /* Name.Label */\n",
       ".output_html .nn { color: #0000FF; font-weight: bold } /* Name.Namespace */\n",
       ".output_html .nt { color: #008000; font-weight: bold } /* Name.Tag */\n",
       ".output_html .nv { color: #19177C } /* Name.Variable */\n",
       ".output_html .ow { color: #AA22FF; font-weight: bold } /* Operator.Word */\n",
       ".output_html .w { color: #bbbbbb } /* Text.Whitespace */\n",
       ".output_html .mb { color: #666666 } /* Literal.Number.Bin */\n",
       ".output_html .mf { color: #666666 } /* Literal.Number.Float */\n",
       ".output_html .mh { color: #666666 } /* Literal.Number.Hex */\n",
       ".output_html .mi { color: #666666 } /* Literal.Number.Integer */\n",
       ".output_html .mo { color: #666666 } /* Literal.Number.Oct */\n",
       ".output_html .sa { color: #BA2121 } /* Literal.String.Affix */\n",
       ".output_html .sb { color: #BA2121 } /* Literal.String.Backtick */\n",
       ".output_html .sc { color: #BA2121 } /* Literal.String.Char */\n",
       ".output_html .dl { color: #BA2121 } /* Literal.String.Delimiter */\n",
       ".output_html .sd { color: #BA2121; font-style: italic } /* Literal.String.Doc */\n",
       ".output_html .s2 { color: #BA2121 } /* Literal.String.Double */\n",
       ".output_html .se { color: #AA5D1F; font-weight: bold } /* Literal.String.Escape */\n",
       ".output_html .sh { color: #BA2121 } /* Literal.String.Heredoc */\n",
       ".output_html .si { color: #A45A77; font-weight: bold } /* Literal.String.Interpol */\n",
       ".output_html .sx { color: #008000 } /* Literal.String.Other */\n",
       ".output_html .sr { color: #A45A77 } /* Literal.String.Regex */\n",
       ".output_html .s1 { color: #BA2121 } /* Literal.String.Single */\n",
       ".output_html .ss { color: #19177C } /* Literal.String.Symbol */\n",
       ".output_html .bp { color: #008000 } /* Name.Builtin.Pseudo */\n",
       ".output_html .fm { color: #0000FF } /* Name.Function.Magic */\n",
       ".output_html .vc { color: #19177C } /* Name.Variable.Class */\n",
       ".output_html .vg { color: #19177C } /* Name.Variable.Global */\n",
       ".output_html .vi { color: #19177C } /* Name.Variable.Instance */\n",
       ".output_html .vm { color: #19177C } /* Name.Variable.Magic */\n",
       ".output_html .il { color: #666666 } /* Literal.Number.Integer.Long */</style><div class=\"highlight\"><pre><span></span><span class=\"c1\">// virtualization.c:1-29 (29 lines)</span>\n",
       "<span class=\"cp\">#define _GNU_SOURCE  </span>\n",
       "<span class=\"cp\">#include</span><span class=\"w\"> </span><span class=\"cpf\">&lt;unistd.h&gt;</span>\n",
       "<span class=\"cp\">#include</span><span class=\"w\"> </span><span class=\"cpf\">&lt;stdio.h&gt;</span>\n",
       "<span class=\"cp\">#include</span><span class=\"w\"> </span><span class=\"cpf\">&lt;stdlib.h&gt;</span>\n",
       "<span class=\"cp\">#include</span><span class=\"w\"> </span><span class=\"cpf\">&lt;assert.h&gt;</span>\n",
       "<span class=\"cp\">#include</span><span class=\"w\"> </span><span class=\"cpf\">&lt;sched.h&gt;</span>\n",
       "<span class=\"cp\">#include</span><span class=\"w\"> </span><span class=\"cpf\">&lt;sys/syscall.h&gt;</span>\n",
       "<span class=\"cp\">#include</span><span class=\"w\"> </span><span class=\"cpf\">&lt;time.h&gt;</span>\n",
       "<span class=\"cp\">#include</span><span class=\"w\"> </span><span class=\"cpf\">&lt;stdint.h&gt;</span>\n",
       "\n",
       "<span class=\"kt\">double</span><span class=\"w\"> </span><span class=\"n\">a</span><span class=\"w\"> </span><span class=\"o\">=</span><span class=\"w\"> </span><span class=\"mi\">0</span><span class=\"p\">;</span>\n",
       "\n",
       "<span class=\"kt\">int</span><span class=\"w\"> </span><span class=\"nf\">main</span><span class=\"p\">(</span><span class=\"kt\">int</span><span class=\"w\"> </span><span class=\"n\">argc</span><span class=\"p\">,</span><span class=\"w\"> </span><span class=\"kt\">char</span><span class=\"w\"> </span><span class=\"o\">*</span><span class=\"n\">argv</span><span class=\"p\">[])</span>\n",
       "<span class=\"p\">{</span>\n",
       "<span class=\"w\">    </span><span class=\"kt\">uint64_t</span><span class=\"w\"> </span><span class=\"n\">i</span><span class=\"p\">,</span><span class=\"w\"> </span><span class=\"n\">number_of_total_processes</span><span class=\"o\">=</span><span class=\"mi\">4</span><span class=\"p\">,</span><span class=\"w\"> </span><span class=\"n\">p</span><span class=\"p\">;</span>\n",
       "<span class=\"w\">    </span><span class=\"k\">if</span><span class=\"p\">(</span><span class=\"n\">argc</span><span class=\"w\"> </span><span class=\"o\">&lt;</span><span class=\"w\"> </span><span class=\"mi\">2</span><span class=\"p\">)</span>\n",
       "<span class=\"w\">    </span><span class=\"p\">{</span>\n",
       "<span class=\"w\">        </span><span class=\"n\">fprintf</span><span class=\"p\">(</span><span class=\"n\">stderr</span><span class=\"p\">,</span><span class=\"w\"> </span><span class=\"s\">&quot;Usage: %s number_of_processes</span><span class=\"se\">\\n</span><span class=\"s\">&quot;</span><span class=\"p\">,</span><span class=\"n\">argv</span><span class=\"p\">[</span><span class=\"mi\">0</span><span class=\"p\">]);</span>\n",
       "<span class=\"w\">        </span><span class=\"n\">exit</span><span class=\"p\">(</span><span class=\"mi\">1</span><span class=\"p\">);</span>\n",
       "<span class=\"w\">    </span><span class=\"p\">}</span>\n",
       "<span class=\"w\">    </span><span class=\"n\">number_of_total_processes</span><span class=\"w\"> </span><span class=\"o\">=</span><span class=\"w\"> </span><span class=\"n\">atoi</span><span class=\"p\">(</span><span class=\"n\">argv</span><span class=\"p\">[</span><span class=\"mi\">1</span><span class=\"p\">]);</span>\n",
       "<span class=\"w\">    </span><span class=\"k\">for</span><span class=\"p\">(</span><span class=\"n\">i</span><span class=\"w\"> </span><span class=\"o\">=</span><span class=\"w\"> </span><span class=\"mi\">0</span><span class=\"p\">;</span><span class=\"w\"> </span><span class=\"n\">i</span><span class=\"o\">&lt;</span><span class=\"w\"> </span><span class=\"n\">number_of_total_processes</span><span class=\"mi\">-1</span><span class=\"w\"> </span><span class=\"o\">&amp;&amp;</span><span class=\"w\"> </span><span class=\"n\">fork</span><span class=\"p\">();</span><span class=\"w\"> </span><span class=\"n\">i</span><span class=\"o\">++</span><span class=\"p\">);</span>\n",
       "<span class=\"w\">    </span><span class=\"n\">srand</span><span class=\"p\">((</span><span class=\"kt\">int</span><span class=\"p\">)</span><span class=\"n\">time</span><span class=\"p\">(</span><span class=\"nb\">NULL</span><span class=\"p\">)</span><span class=\"o\">+</span><span class=\"p\">(</span><span class=\"kt\">int</span><span class=\"p\">)</span><span class=\"n\">getpid</span><span class=\"p\">());</span>\n",
       "<span class=\"w\">    </span><span class=\"n\">a</span><span class=\"w\"> </span><span class=\"o\">=</span><span class=\"w\"> </span><span class=\"n\">rand</span><span class=\"p\">();</span>\n",
       "<span class=\"w\">    </span><span class=\"n\">fprintf</span><span class=\"p\">(</span><span class=\"n\">stderr</span><span class=\"p\">,</span><span class=\"w\"> </span><span class=\"s\">&quot;</span><span class=\"se\">\\n</span><span class=\"s\">Process %d: Value of a is %lf and address of a is %p</span><span class=\"se\">\\n</span><span class=\"s\">&quot;</span><span class=\"p\">,(</span><span class=\"kt\">int</span><span class=\"p\">)</span><span class=\"n\">getpid</span><span class=\"p\">(),</span><span class=\"w\"> </span><span class=\"n\">a</span><span class=\"p\">,</span><span class=\"w\"> </span><span class=\"o\">&amp;</span><span class=\"n\">a</span><span class=\"p\">);</span>\n",
       "<span class=\"w\">    </span><span class=\"n\">sleep</span><span class=\"p\">(</span><span class=\"mi\">10</span><span class=\"p\">);</span>\n",
       "<span class=\"w\">    </span><span class=\"n\">fprintf</span><span class=\"p\">(</span><span class=\"n\">stderr</span><span class=\"p\">,</span><span class=\"w\"> </span><span class=\"s\">&quot;</span><span class=\"se\">\\n</span><span class=\"s\">10 Seconds Later -- Process %d: Value of a is %lf and address of a is %p</span><span class=\"se\">\\n</span><span class=\"s\">&quot;</span><span class=\"p\">,(</span><span class=\"kt\">int</span><span class=\"p\">)</span><span class=\"n\">getpid</span><span class=\"p\">(),</span><span class=\"w\"> </span><span class=\"n\">a</span><span class=\"p\">,</span><span class=\"w\"> </span><span class=\"o\">&amp;</span><span class=\"n\">a</span><span class=\"p\">);</span>\n",
       "<span class=\"w\">    </span><span class=\"k\">return</span><span class=\"w\"> </span><span class=\"mi\">0</span><span class=\"p\">;</span>\n",
       "<span class=\"p\">}</span>\n",
       "</pre></div>\n"
      ],
      "text/latex": [
       "\\begin{Verbatim}[commandchars=\\\\\\{\\}]\n",
       "\\PY{c+c1}{// virtualization.c:1\\PYZhy{}29 (29 lines)}\n",
       "\\PY{c+cp}{\\PYZsh{}}\\PY{c+cp}{define \\PYZus{}GNU\\PYZus{}SOURCE  }\n",
       "\\PY{c+cp}{\\PYZsh{}}\\PY{c+cp}{include}\\PY{+w}{ }\\PY{c+cpf}{\\PYZlt{}unistd.h\\PYZgt{}}\n",
       "\\PY{c+cp}{\\PYZsh{}}\\PY{c+cp}{include}\\PY{+w}{ }\\PY{c+cpf}{\\PYZlt{}stdio.h\\PYZgt{}}\n",
       "\\PY{c+cp}{\\PYZsh{}}\\PY{c+cp}{include}\\PY{+w}{ }\\PY{c+cpf}{\\PYZlt{}stdlib.h\\PYZgt{}}\n",
       "\\PY{c+cp}{\\PYZsh{}}\\PY{c+cp}{include}\\PY{+w}{ }\\PY{c+cpf}{\\PYZlt{}assert.h\\PYZgt{}}\n",
       "\\PY{c+cp}{\\PYZsh{}}\\PY{c+cp}{include}\\PY{+w}{ }\\PY{c+cpf}{\\PYZlt{}sched.h\\PYZgt{}}\n",
       "\\PY{c+cp}{\\PYZsh{}}\\PY{c+cp}{include}\\PY{+w}{ }\\PY{c+cpf}{\\PYZlt{}sys/syscall.h\\PYZgt{}}\n",
       "\\PY{c+cp}{\\PYZsh{}}\\PY{c+cp}{include}\\PY{+w}{ }\\PY{c+cpf}{\\PYZlt{}time.h\\PYZgt{}}\n",
       "\\PY{c+cp}{\\PYZsh{}}\\PY{c+cp}{include}\\PY{+w}{ }\\PY{c+cpf}{\\PYZlt{}stdint.h\\PYZgt{}}\n",
       "\n",
       "\\PY{k+kt}{double}\\PY{+w}{ }\\PY{n}{a}\\PY{+w}{ }\\PY{o}{=}\\PY{+w}{ }\\PY{l+m+mi}{0}\\PY{p}{;}\n",
       "\n",
       "\\PY{k+kt}{int}\\PY{+w}{ }\\PY{n+nf}{main}\\PY{p}{(}\\PY{k+kt}{int}\\PY{+w}{ }\\PY{n}{argc}\\PY{p}{,}\\PY{+w}{ }\\PY{k+kt}{char}\\PY{+w}{ }\\PY{o}{*}\\PY{n}{argv}\\PY{p}{[}\\PY{p}{]}\\PY{p}{)}\n",
       "\\PY{p}{\\PYZob{}}\n",
       "\\PY{+w}{    }\\PY{k+kt}{uint64\\PYZus{}t}\\PY{+w}{ }\\PY{n}{i}\\PY{p}{,}\\PY{+w}{ }\\PY{n}{number\\PYZus{}of\\PYZus{}total\\PYZus{}processes}\\PY{o}{=}\\PY{l+m+mi}{4}\\PY{p}{,}\\PY{+w}{ }\\PY{n}{p}\\PY{p}{;}\n",
       "\\PY{+w}{    }\\PY{k}{if}\\PY{p}{(}\\PY{n}{argc}\\PY{+w}{ }\\PY{o}{\\PYZlt{}}\\PY{+w}{ }\\PY{l+m+mi}{2}\\PY{p}{)}\n",
       "\\PY{+w}{    }\\PY{p}{\\PYZob{}}\n",
       "\\PY{+w}{        }\\PY{n}{fprintf}\\PY{p}{(}\\PY{n}{stderr}\\PY{p}{,}\\PY{+w}{ }\\PY{l+s}{\\PYZdq{}}\\PY{l+s}{Usage: \\PYZpc{}s number\\PYZus{}of\\PYZus{}processes}\\PY{l+s+se}{\\PYZbs{}n}\\PY{l+s}{\\PYZdq{}}\\PY{p}{,}\\PY{n}{argv}\\PY{p}{[}\\PY{l+m+mi}{0}\\PY{p}{]}\\PY{p}{)}\\PY{p}{;}\n",
       "\\PY{+w}{        }\\PY{n}{exit}\\PY{p}{(}\\PY{l+m+mi}{1}\\PY{p}{)}\\PY{p}{;}\n",
       "\\PY{+w}{    }\\PY{p}{\\PYZcb{}}\n",
       "\\PY{+w}{    }\\PY{n}{number\\PYZus{}of\\PYZus{}total\\PYZus{}processes}\\PY{+w}{ }\\PY{o}{=}\\PY{+w}{ }\\PY{n}{atoi}\\PY{p}{(}\\PY{n}{argv}\\PY{p}{[}\\PY{l+m+mi}{1}\\PY{p}{]}\\PY{p}{)}\\PY{p}{;}\n",
       "\\PY{+w}{    }\\PY{k}{for}\\PY{p}{(}\\PY{n}{i}\\PY{+w}{ }\\PY{o}{=}\\PY{+w}{ }\\PY{l+m+mi}{0}\\PY{p}{;}\\PY{+w}{ }\\PY{n}{i}\\PY{o}{\\PYZlt{}}\\PY{+w}{ }\\PY{n}{number\\PYZus{}of\\PYZus{}total\\PYZus{}processes}\\PY{l+m+mi}{\\PYZhy{}1}\\PY{+w}{ }\\PY{o}{\\PYZam{}}\\PY{o}{\\PYZam{}}\\PY{+w}{ }\\PY{n}{fork}\\PY{p}{(}\\PY{p}{)}\\PY{p}{;}\\PY{+w}{ }\\PY{n}{i}\\PY{o}{+}\\PY{o}{+}\\PY{p}{)}\\PY{p}{;}\n",
       "\\PY{+w}{    }\\PY{n}{srand}\\PY{p}{(}\\PY{p}{(}\\PY{k+kt}{int}\\PY{p}{)}\\PY{n}{time}\\PY{p}{(}\\PY{n+nb}{NULL}\\PY{p}{)}\\PY{o}{+}\\PY{p}{(}\\PY{k+kt}{int}\\PY{p}{)}\\PY{n}{getpid}\\PY{p}{(}\\PY{p}{)}\\PY{p}{)}\\PY{p}{;}\n",
       "\\PY{+w}{    }\\PY{n}{a}\\PY{+w}{ }\\PY{o}{=}\\PY{+w}{ }\\PY{n}{rand}\\PY{p}{(}\\PY{p}{)}\\PY{p}{;}\n",
       "\\PY{+w}{    }\\PY{n}{fprintf}\\PY{p}{(}\\PY{n}{stderr}\\PY{p}{,}\\PY{+w}{ }\\PY{l+s}{\\PYZdq{}}\\PY{l+s+se}{\\PYZbs{}n}\\PY{l+s}{Process \\PYZpc{}d: Value of a is \\PYZpc{}lf and address of a is \\PYZpc{}p}\\PY{l+s+se}{\\PYZbs{}n}\\PY{l+s}{\\PYZdq{}}\\PY{p}{,}\\PY{p}{(}\\PY{k+kt}{int}\\PY{p}{)}\\PY{n}{getpid}\\PY{p}{(}\\PY{p}{)}\\PY{p}{,}\\PY{+w}{ }\\PY{n}{a}\\PY{p}{,}\\PY{+w}{ }\\PY{o}{\\PYZam{}}\\PY{n}{a}\\PY{p}{)}\\PY{p}{;}\n",
       "\\PY{+w}{    }\\PY{n}{sleep}\\PY{p}{(}\\PY{l+m+mi}{10}\\PY{p}{)}\\PY{p}{;}\n",
       "\\PY{+w}{    }\\PY{n}{fprintf}\\PY{p}{(}\\PY{n}{stderr}\\PY{p}{,}\\PY{+w}{ }\\PY{l+s}{\\PYZdq{}}\\PY{l+s+se}{\\PYZbs{}n}\\PY{l+s}{10 Seconds Later \\PYZhy{}\\PYZhy{} Process \\PYZpc{}d: Value of a is \\PYZpc{}lf and address of a is \\PYZpc{}p}\\PY{l+s+se}{\\PYZbs{}n}\\PY{l+s}{\\PYZdq{}}\\PY{p}{,}\\PY{p}{(}\\PY{k+kt}{int}\\PY{p}{)}\\PY{n}{getpid}\\PY{p}{(}\\PY{p}{)}\\PY{p}{,}\\PY{+w}{ }\\PY{n}{a}\\PY{p}{,}\\PY{+w}{ }\\PY{o}{\\PYZam{}}\\PY{n}{a}\\PY{p}{)}\\PY{p}{;}\n",
       "\\PY{+w}{    }\\PY{k}{return}\\PY{+w}{ }\\PY{l+m+mi}{0}\\PY{p}{;}\n",
       "\\PY{p}{\\PYZcb{}}\n",
       "\\end{Verbatim}\n"
      ],
      "text/plain": [
       "// virtualization.c:1-29 (29 lines)\n",
       "#define _GNU_SOURCE  \n",
       "#include <unistd.h>\n",
       "#include <stdio.h>\n",
       "#include <stdlib.h>\n",
       "#include <assert.h>\n",
       "#include <sched.h>\n",
       "#include <sys/syscall.h>\n",
       "#include <time.h>\n",
       "#include <stdint.h>\n",
       "\n",
       "double a = 0;\n",
       "\n",
       "int main(int argc, char *argv[])\n",
       "{\n",
       "    uint64_t i, number_of_total_processes=4, p;\n",
       "    if(argc < 2)\n",
       "    {\n",
       "        fprintf(stderr, \"Usage: %s number_of_processes\\n\",argv[0]);\n",
       "        exit(1);\n",
       "    }\n",
       "    number_of_total_processes = atoi(argv[1]);\n",
       "    for(i = 0; i< number_of_total_processes-1 && fork(); i++);\n",
       "    srand((int)time(NULL)+(int)getpid());\n",
       "    a = rand();\n",
       "    fprintf(stderr, \"\\nProcess %d: Value of a is %lf and address of a is %p\\n\",(int)getpid(), a, &a);\n",
       "    sleep(10);\n",
       "    fprintf(stderr, \"\\n10 Seconds Later -- Process %d: Value of a is %lf and address of a is %p\\n\",(int)getpid(), a, &a);\n",
       "    return 0;\n",
       "}"
      ]
     },
     "metadata": {},
     "output_type": "display_data"
    }
   ],
   "source": [
    "render_code(\"virtualization.c\")"
   ]
  },
  {
   "cell_type": "code",
   "execution_count": 15,
   "id": "40f823f6-e6c3-4ced-845e-9024781f94df",
   "metadata": {},
   "outputs": [
    {
     "name": "stdout",
     "output_type": "stream",
     "text": [
      "gcc -O3 virtualization.c -o virtualization\n",
      "\n",
      "Process 909562: Value of a is 41452563.000000 and address of a is 0x5749559f3030\n",
      "\n",
      "Process 909569: Value of a is 61346809.000000 and address of a is 0x5749559f3030\n",
      "\n",
      "Process 909570: Value of a is 827071023.000000 and address of a is 0x5749559f3030\n",
      "\n",
      "Process 909571: Value of a is 518873929.000000 and address of a is 0x5749559f3030\n",
      "\n",
      "10 Seconds Later -- Process 909562: Value of a is 41452563.000000 and address of a is 0x5749559f3030\n",
      "\n",
      "10 Seconds Later -- Process 909569: Value of a is 61346809.000000 and address of a is 0x5749559f3030\n",
      "\n",
      "10 Seconds Later -- Process 909570: Value of a is 827071023.000000 and address of a is 0x5749559f3030\n",
      "\n",
      "10 Seconds Later -- Process 909571: Value of a is 518873929.000000 and address of a is 0x5749559f3030\n"
     ]
    }
   ],
   "source": [
    "! make ; ./virtualization 4"
   ]
  },
  {
   "cell_type": "code",
   "execution_count": 5,
   "id": "ed3932e9-7cbb-4b09-98ad-f7e658cd080e",
   "metadata": {},
   "outputs": [
    {
     "name": "stdout",
     "output_type": "stream",
     "text": [
      "2097152\r\n",
      "1073741824\r\n"
     ]
    }
   ],
   "source": [
    "!sudo hugeadm --page-sizes-all"
   ]
  },
  {
   "cell_type": "code",
   "execution_count": 6,
   "id": "76221d15-e339-42b6-bb74-58c41bbca18c",
   "metadata": {},
   "outputs": [
    {
     "name": "stdout",
     "output_type": "stream",
     "text": [
      "      Size  Minimum  Current  Maximum  Default\r\n",
      "   2097152     1025     1025     1025        *\r\n",
      "1073741824        0        0        0         \r\n"
     ]
    }
   ],
   "source": [
    "!sudo hugeadm --pool-list"
   ]
  },
  {
   "cell_type": "markdown",
   "id": "155a5f85-e2bb-408d-a0f1-4149e6add36c",
   "metadata": {},
   "source": [
    "[Reference](https://www.intel.com/content/www/us/en/docs/vtune-profiler/cookbook/2023-0/page-faults.html)\n",
    "https://www.hydrogen18.com/blog/using-hugepages-libvirt-ubuntu-jammy.html"
   ]
  },
  {
   "cell_type": "code",
   "execution_count": 9,
   "id": "df781205",
   "metadata": {},
   "outputs": [
    {
     "name": "stdout",
     "output_type": "stream",
     "text": [
      "3072.0\n"
     ]
    }
   ],
   "source": [
    "pages = 2048*2048*3/(4*1024)\n",
    "print(pages)"
   ]
  },
  {
   "cell_type": "code",
   "execution_count": 16,
   "id": "44a95144-1591-4404-8143-b859677e40dd",
   "metadata": {},
   "outputs": [
    {
     "name": "stdout",
     "output_type": "stream",
     "text": [
      "72676549292,19208018497,0.264295,0.213447,4.099898,0.009919,341948369,34474921141\n",
      "\n",
      " Performance counter stats for '../memory/matrix_mul/blockmm 2048 256':\n",
      "\n",
      "          4,137.63 msec task-clock                       #    0.999 CPUs utilized             \n",
      "                13      context-switches                 #    3.142 /sec                      \n",
      "                 2      cpu-migrations                   #    0.483 /sec                      \n",
      "            24,654      page-faults                      #    5.958 K/sec                     \n",
      "    15,090,532,107      cpu_atom/cycles/                 #    3.647 GHz                         (0.02%)\n",
      "    21,237,055,841      cpu_core/cycles/                 #    5.133 GHz                         (90.96%)\n",
      "    39,893,520,392      cpu_atom/instructions/           #    2.64  insn per cycle              (0.02%)\n",
      "    80,091,880,012      cpu_core/instructions/           #    5.31  insn per cycle              (90.96%)\n",
      "     4,911,324,696      cpu_atom/branches/               #    1.187 G/sec                       (0.02%)\n",
      "     9,864,258,930      cpu_core/branches/               #    2.384 G/sec                       (90.96%)\n",
      "         9,510,360      cpu_atom/branch-misses/          #    0.19% of all branches             (0.02%)\n",
      "       133,345,738      cpu_core/branch-misses/          #    2.72% of all branches             (81.95%)\n",
      "             TopdownL1 (cpu_core)                 # \u001b[31m    22.7\u001b[m %  tma_backend_bound      \n",
      "                                                  # \u001b[32m     5.6\u001b[m %  tma_bad_speculation    \n",
      "                                                  # \u001b[31m    22.9\u001b[m %  tma_frontend_bound     \n",
      "                                                  #     48.8 %  tma_retiring             (90.96%)\n",
      "             TopdownL1 (cpu_atom)                 # \u001b[32m    11.5\u001b[m %  tma_bad_speculation    \n",
      "                                                  # \u001b[32m    53.2\u001b[m %  tma_retiring             (0.02%)\n",
      "                                                  # \u001b[31m    16.9\u001b[m %  tma_backend_bound      \n",
      "                                                  # \u001b[32m    16.9\u001b[m %  tma_backend_bound_aux  \n",
      "                                                  # \u001b[32m    18.4\u001b[m %  tma_frontend_bound       (0.02%)\n",
      "\n",
      "       4.141112994 seconds time elapsed\n",
      "\n",
      "       4.101418000 seconds user\n",
      "       0.036994000 seconds sys\n",
      "\n",
      "\n"
     ]
    }
   ],
   "source": [
    "! perf stat ../memory/matrix_mul/blockmm 2048 256"
   ]
  },
  {
   "cell_type": "code",
   "execution_count": 17,
   "id": "72208175-8211-4b92-ab32-08ffa204976b",
   "metadata": {},
   "outputs": [
    {
     "name": "stdout",
     "output_type": "stream",
     "text": [
      "72698419947,19550838407,0.268931,0.213636,4.176762,0.009844,339586907,34495372955\n",
      "\n",
      " Performance counter stats for './run_mm.sh':\n",
      "\n",
      "          4,208.87 msec task-clock                       #    1.000 CPUs utilized             \n",
      "                13      context-switches                 #    3.089 /sec                      \n",
      "                 2      cpu-migrations                   #    0.475 /sec                      \n",
      "            24,850      page-faults                      #    5.904 K/sec                     \n",
      "         7,727,482      cpu_atom/cycles/                 #    0.002 GHz                         (43.13%)\n",
      "    21,645,902,082      cpu_core/cycles/                 #    5.143 GHz                         (90.87%)\n",
      "        11,687,939      cpu_atom/instructions/           #    1.51  insn per cycle              (62.79%)\n",
      "    80,160,390,469      cpu_core/instructions/           # 10373.42  insn per cycle             (90.87%)\n",
      "         3,071,738      cpu_atom/branches/               #  729.826 K/sec                       (62.73%)\n",
      "     9,874,212,572      cpu_core/branches/               #    2.346 G/sec                       (90.87%)\n",
      "            45,539      cpu_atom/branch-misses/          #    1.48% of all branches             (62.75%)\n",
      "       130,929,836      cpu_core/branch-misses/          # \u001b[31m4262.40%\u001b[m of all branches             (81.84%)\n",
      "             TopdownL1 (cpu_core)                 # \u001b[31m    21.9\u001b[m %  tma_backend_bound      \n",
      "                                                  # \u001b[32m     5.7\u001b[m %  tma_bad_speculation    \n",
      "                                                  # \u001b[31m    23.3\u001b[m %  tma_frontend_bound     \n",
      "                                                  #     49.2 %  tma_retiring             (90.87%)\n",
      "             TopdownL1 (cpu_atom)                 # \u001b[32m    11.1\u001b[m %  tma_bad_speculation    \n",
      "                                                  # \u001b[32m    39.0\u001b[m %  tma_retiring             (82.34%)\n",
      "                                                  # \u001b[31m    24.9\u001b[m %  tma_backend_bound      \n",
      "                                                  # \u001b[31m    24.9\u001b[m %  tma_backend_bound_aux  \n",
      "                                                  # \u001b[31m    25.1\u001b[m %  tma_frontend_bound       (82.40%)\n",
      "\n",
      "       4.209420920 seconds time elapsed\n",
      "\n",
      "       4.178997000 seconds user\n",
      "       0.030331000 seconds sys\n",
      "\n",
      "\n"
     ]
    }
   ],
   "source": [
    "! perf stat ./run_mm.sh"
   ]
  },
  {
   "cell_type": "code",
   "execution_count": null,
   "id": "4cf4230e-e8ba-4df6-a2a5-87d7fc447080",
   "metadata": {},
   "outputs": [],
   "source": []
  }
 ],
 "metadata": {
  "kernelspec": {
   "display_name": "Python 3 (ipykernel)",
   "language": "python",
   "name": "python3"
  },
  "language_info": {
   "codemirror_mode": {
    "name": "ipython",
    "version": 3
   },
   "file_extension": ".py",
   "mimetype": "text/x-python",
   "name": "python",
   "nbconvert_exporter": "python",
   "pygments_lexer": "ipython3",
   "version": "3.12.3"
  },
  "widgets": {
   "application/vnd.jupyter.widget-state+json": {
    "state": {},
    "version_major": 2,
    "version_minor": 0
   }
  }
 },
 "nbformat": 4,
 "nbformat_minor": 5
}
