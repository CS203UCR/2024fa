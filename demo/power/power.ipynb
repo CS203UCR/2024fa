{
 "cells": [
  {
   "cell_type": "code",
   "execution_count": 8,
   "id": "262d64a7-0c95-43c9-920d-c1edaa782fdd",
   "metadata": {},
   "outputs": [
    {
     "name": "stderr",
     "output_type": "stream",
     "text": [
      "/nfshome/htseng/courses/CS203/demo/power/notebook.py:229: SyntaxWarning: invalid escape sequence '\\s'\n",
      "  show = (f\"[\\s\\*]{show}\\s*\\(\", \"^\\}\")\n",
      "/nfshome/htseng/courses/CS203/demo/power/notebook.py:229: SyntaxWarning: invalid escape sequence '\\s'\n",
      "  show = (f\"[\\s\\*]{show}\\s*\\(\", \"^\\}\")\n",
      "/nfshome/htseng/courses/CS203/demo/power/notebook.py:229: SyntaxWarning: invalid escape sequence '\\}'\n",
      "  show = (f\"[\\s\\*]{show}\\s*\\(\", \"^\\}\")\n"
     ]
    },
    {
     "data": {
      "text/html": [
       "<style>h1 {font-size: 2vw;} h2 {font-size: 1.5vw;} p {font-size: 1.4vw;} div.prompt, code, output, prompt, kbd, pre, samp {font-family: 'SF Mono', 'Courier New', Courier, monospace, sans-serif !important;font-size: 1.4vw !important;}</style>"
      ],
      "text/plain": [
       "<IPython.core.display.HTML object>"
      ]
     },
     "metadata": {},
     "output_type": "display_data"
    },
    {
     "name": "stdout",
     "output_type": "stream",
     "text": [
      "The autoreload extension is already loaded. To reload it, use:\n",
      "  %reload_ext autoreload\n"
     ]
    }
   ],
   "source": [
    "%load_ext autoreload\n",
    "%autoreload 2\n",
    "from notebook import *\n",
    "# if get something about NUMEXPR_MAX_THREADS being set incorrectly, don't worry.  It's not a problem."
   ]
  },
  {
   "cell_type": "markdown",
   "id": "ccdaf701-d61b-4c58-9838-d751d35b2c35",
   "metadata": {},
   "source": [
    "# Power/Energy consumption"
   ]
  },
  {
   "cell_type": "code",
   "execution_count": 3,
   "id": "54303727-0828-4293-990e-29ffbc94f190",
   "metadata": {},
   "outputs": [
    {
     "name": "stdout",
     "output_type": "stream",
     "text": [
      "cpu MHz\t\t: 1805.923\n",
      "cpu MHz\t\t: 800.000\n",
      "cpu MHz\t\t: 800.000\n",
      "cpu MHz\t\t: 800.000\n",
      "cpu MHz\t\t: 800.000\n",
      "cpu MHz\t\t: 800.000\n",
      "cpu MHz\t\t: 800.000\n",
      "cpu MHz\t\t: 800.000\n",
      "cpu MHz\t\t: 3027.436\n",
      "cpu MHz\t\t: 800.000\n",
      "cpu MHz\t\t: 3040.523\n",
      "cpu MHz\t\t: 800.000\n",
      "cpu MHz\t\t: 3075.390\n",
      "cpu MHz\t\t: 800.000\n",
      "cpu MHz\t\t: 2983.953\n",
      "cpu MHz\t\t: 800.000\n",
      "cpu MHz\t\t: 2197.679\n",
      "cpu MHz\t\t: 2116.265\n",
      "cpu MHz\t\t: 800.000\n",
      "cpu MHz\t\t: 800.000\n",
      "cpu MHz\t\t: 800.000\n",
      "cpu MHz\t\t: 800.000\n",
      "cpu MHz\t\t: 800.000\n",
      "cpu MHz\t\t: 2197.785\n"
     ]
    }
   ],
   "source": [
    "! cat /proc/cpuinfo |grep MHz"
   ]
  },
  {
   "cell_type": "code",
   "execution_count": 4,
   "id": "9590c355-7016-4293-883c-508f4d24bb4f",
   "metadata": {},
   "outputs": [
    {
     "name": "stdout",
     "output_type": "stream",
     "text": [
      "Architecture:                       x86_64\n",
      "CPU op-mode(s):                     32-bit, 64-bit\n",
      "Byte Order:                         Little Endian\n",
      "Address sizes:                      46 bits physical, 48 bits virtual\n",
      "CPU(s):                             32\n",
      "On-line CPU(s) list:                0-31\n",
      "Thread(s) per core:                 2\n",
      "Core(s) per socket:                 8\n",
      "Socket(s):                          2\n",
      "NUMA node(s):                       2\n",
      "Vendor ID:                          GenuineIntel\n",
      "CPU family:                         6\n",
      "Model:                              85\n",
      "Model name:                         Intel(R) Xeon(R) Silver 4108 CPU @ 1.80GHz\n",
      "Stepping:                           4\n",
      "CPU MHz:                            800.576\n",
      "CPU max MHz:                        3000.0000\n",
      "CPU min MHz:                        800.0000\n",
      "BogoMIPS:                           3600.00\n",
      "Virtualization:                     VT-x\n",
      "L1d cache:                          512 KiB\n",
      "L1i cache:                          512 KiB\n",
      "L2 cache:                           16 MiB\n",
      "L3 cache:                           22 MiB\n",
      "NUMA node0 CPU(s):                  0-7,16-23\n",
      "NUMA node1 CPU(s):                  8-15,24-31\n",
      "Vulnerability Gather data sampling: Mitigation; Microcode\n",
      "Vulnerability Itlb multihit:        KVM: Mitigation: Split huge pages\n",
      "Vulnerability L1tf:                 Mitigation; PTE Inversion; VMX conditional cache flushes, SMT vulnerable\n",
      "Vulnerability Mds:                  Mitigation; Clear CPU buffers; SMT vulnerable\n",
      "Vulnerability Meltdown:             Mitigation; PTI\n",
      "Vulnerability Mmio stale data:      Mitigation; Clear CPU buffers; SMT vulnerable\n",
      "Vulnerability Retbleed:             Mitigation; IBRS\n",
      "Vulnerability Spec store bypass:    Mitigation; Speculative Store Bypass disabled via prctl and seccomp\n",
      "Vulnerability Spectre v1:           Mitigation; usercopy/swapgs barriers and __user pointer sanitization\n",
      "Vulnerability Spectre v2:           Mitigation; IBRS; IBPB conditional; STIBP conditional; RSB filling; PBRSB-eIBRS Not affected; BHI Not affected\n",
      "Vulnerability Srbds:                Not affected\n",
      "Vulnerability Tsx async abort:      Mitigation; Clear CPU buffers; SMT vulnerable\n",
      "Flags:                              fpu vme de pse tsc msr pae mce cx8 apic sep mtrr pge mca cmov pat pse36 clflush dts acpi mmx fxsr sse sse2 ss ht tm pbe syscall nx pdpe1gb rdtscp lm constant_tsc art arch_perfmon pebs bts rep_good nopl xtopology nonstop_tsc cpuid aperfmperf pni pclmulqdq dtes64 monitor ds_cpl vmx smx est tm2 ssse3 sdbg fma cx16 xtpr pdcm pcid dca sse4_1 sse4_2 x2apic movbe popcnt tsc_deadline_timer aes xsave avx f16c rdrand lahf_lm abm 3dnowprefetch cpuid_fault epb cat_l3 cdp_l3 invpcid_single pti intel_ppin ssbd mba ibrs ibpb stibp tpr_shadow vnmi flexpriority ept vpid ept_ad fsgsbase tsc_adjust bmi1 hle avx2 smep bmi2 erms invpcid rtm cqm mpx rdt_a avx512f avx512dq rdseed adx smap clflushopt clwb intel_pt avx512cd avx512bw avx512vl xsaveopt xsavec xgetbv1 xsaves cqm_llc cqm_occup_llc cqm_mbm_total cqm_mbm_local dtherm ida arat pln pts hwp hwp_act_window hwp_epp hwp_pkg_req pku ospke md_clear flush_l1d arch_capabilities\n"
     ]
    }
   ],
   "source": [
    "! ssh htseng@eevee \"lscpu\""
   ]
  },
  {
   "cell_type": "code",
   "execution_count": 9,
   "id": "a90875af-aade-4bbb-a839-cdd47f26046d",
   "metadata": {},
   "outputs": [
    {
     "name": "stdout",
     "output_type": "stream",
     "text": [
      "Sleeping longer as likwid_sleep() called without prior initialization\n",
      "Sleeping longer as likwid_sleep() called without prior initialization\n",
      "|   INSTR_RETIRED_ANY STAT   |  FIXC0  | 50145010597 |   0 | 38097864841 | 1.567032e+09 |\n",
      "| CPU_CLK_UNHALTED_CORE STAT |  FIXC1  | 18124684599 |   0 | 13684134937 | 5.663964e+08 |\n",
      "|  CPU_CLK_UNHALTED_REF STAT |  FIXC2  | 40780559448 |   0 | 30789330768 | 1.274392e+09 |\n",
      "|       TEMP_CORE STAT       |   TMP0  |         700 |  17 |          27 |      21.8750 |\n",
      "|     PWR_PKG_ENERGY STAT    |   PWR0  |    861.1630 |   0 |    445.4426 |      26.9113 |\n",
      "|     PWR_PP0_ENERGY STAT    |   PWR1  |           0 |   0 |           0 |            0 |\n",
      "|    PWR_DRAM_ENERGY STAT    |   PWR3  |     63.2651 |   0 |     56.8514 |       1.9770 |\n",
      "|  Runtime (RDTSC) [s] STAT |   715.2032 |  22.3501 |  22.3501 |  22.3501 |\n",
      "| Runtime unhalted [s] STAT |    10.0693 |        0 |   7.6023 |   0.3147 |\n",
      "|      Clock [MHz] STAT     | 19994.7867 | 796.3835 | 800.6526 | 624.8371 |\n",
      "|          CPI STAT         |    70.2712 |   0.3592 |  20.4644 |   2.1960 |\n",
      "|    Temperature [C] STAT   |        700 |       17 |       27 |  21.8750 |\n",
      "|      Energy [J] STAT      |   861.1630 |        0 | 445.4426 |  26.9113 |\n",
      "|       Power [W] STAT      |    38.5306 |        0 |  19.9302 |   1.2041 |\n",
      "|    Energy PP0 [J] STAT    |          0 |        0 |        0 |        0 |\n",
      "|     Power PP0 [W] STAT    |          0 |        0 |        0 |        0 |\n",
      "|    Energy DRAM [J] STAT   |    63.2651 |        0 |  56.8514 |   1.9770 |\n",
      "|    Power DRAM [W] STAT    |     2.8307 |        0 |   2.5437 |   0.0885 |\n",
      "\n",
      "real\t0m23.756s\n",
      "user\t0m22.413s\n",
      "sys\t0m0.142s\n"
     ]
    }
   ],
   "source": [
    "# Operating at lowest freq.\n",
    "! ssh htseng@eevee \"/nfshome/htseng/courses/CS203/demo/power/lowerMaxFreq.sh; cd /nfshome/htseng/courses/CS203/demo/power; make -C matrix_mul clean all ;  time sudo likwid-perfctr -g ENERGY matrix_mul/blockmm 1024 16\" | grep \"STAT\""
   ]
  },
  {
   "cell_type": "code",
   "execution_count": 10,
   "id": "a879c461-7eba-46e2-8c35-0f9e88223ae7",
   "metadata": {
    "tags": []
   },
   "outputs": [
    {
     "name": "stdout",
     "output_type": "stream",
     "text": [
      "Sleeping longer as likwid_sleep() called without prior initialization\n",
      "Sleeping longer as likwid_sleep() called without prior initialization\n",
      "|   INSTR_RETIRED_ANY STAT   |  FIXC0  | 49528245057 |   0 | 49523236294 | 1.547758e+09 |\n",
      "| CPU_CLK_UNHALTED_CORE STAT |  FIXC1  | 17817959243 |   0 | 17813020919 | 5.568112e+08 |\n",
      "|  CPU_CLK_UNHALTED_REF STAT |  FIXC2  | 10723656600 |   0 | 10712609208 | 3.351143e+08 |\n",
      "|       TEMP_CORE STAT       |   TMP0  |         739 |  18 |          27 |      23.0938 |\n",
      "|     PWR_PKG_ENERGY STAT    |   PWR0  |    319.6639 |   0 |    173.7632 |       9.9895 |\n",
      "|     PWR_PP0_ENERGY STAT    |   PWR1  |           0 |   0 |           0 |            0 |\n",
      "|    PWR_DRAM_ENERGY STAT    |   PWR3  |     38.2536 |   0 |     22.8933 |       1.1954 |\n",
      "|  Runtime (RDTSC) [s] STAT |   191.6640 |   5.9895 |    5.9895 |   5.9895 |\n",
      "| Runtime unhalted [s] STAT |     9.8990 |        0 |    9.8962 |   0.3093 |\n",
      "|      Clock [MHz] STAT     | 15425.0487 | 793.0780 | 2993.0471 | 482.0328 |\n",
      "|          CPI STAT         |    72.6397 |   0.3597 |   22.7917 |   2.2700 |\n",
      "|    Temperature [C] STAT   |        739 |       18 |        27 |  23.0938 |\n",
      "|      Energy [J] STAT      |   319.6639 |        0 |  173.7632 |   9.9895 |\n",
      "|       Power [W] STAT      |    53.3707 |        0 |   29.0113 |   1.6678 |\n",
      "|    Energy PP0 [J] STAT    |          0 |        0 |         0 |        0 |\n",
      "|     Power PP0 [W] STAT    |          0 |        0 |         0 |        0 |\n",
      "|    Energy DRAM [J] STAT   |    38.2536 |        0 |   22.8933 |   1.1954 |\n",
      "|    Power DRAM [W] STAT    |     6.3867 |        0 |    3.8222 |   0.1996 |\n",
      "\n",
      "real\t0m7.344s\n",
      "user\t0m6.035s\n",
      "sys\t0m0.119s\n"
     ]
    }
   ],
   "source": [
    "# Allowing turbo boost\n",
    "! ssh htseng@eevee \"/nfshome/htseng/courses/CS203/demo/power/restoreMaxFreq.sh; cd /nfshome/htseng/courses/CS203/demo/power; time sudo likwid-perfctr -g ENERGY matrix_mul/blockmm 1024 16\" | grep \"STAT\""
   ]
  },
  {
   "cell_type": "code",
   "execution_count": 8,
   "id": "50bc70a9-3ee2-4c2a-9c3b-293518569755",
   "metadata": {},
   "outputs": [
    {
     "name": "stdout",
     "output_type": "stream",
     "text": [
      "Sleeping longer as likwid_sleep() called without prior initialization\n",
      "Sleeping longer as likwid_sleep() called without prior initialization\n",
      "|   INSTR_RETIRED_ANY STAT   |  FIXC0  | 80118744646 |   0 | 80002272949 | 2.503711e+09 |\n",
      "| CPU_CLK_UNHALTED_CORE STAT |  FIXC1  | 21473661358 |   0 | 21389051661 | 6.710519e+08 |\n",
      "|  CPU_CLK_UNHALTED_REF STAT |  FIXC2  | 48315649176 |   0 | 48125278584 | 1.509864e+09 |\n",
      "|       TEMP_CORE STAT       |   TMP0  |         730 |  18 |          27 |      22.8125 |\n",
      "|     PWR_PKG_ENERGY STAT    |   PWR0  |   1032.6894 |   0 |    534.1400 |      32.2715 |\n",
      "|     PWR_PP0_ENERGY STAT    |   PWR1  |           0 |   0 |           0 |            0 |\n",
      "|    PWR_DRAM_ENERGY STAT    |   PWR3  |     79.5384 |   0 |     72.1068 |       2.4856 |\n",
      "|  Runtime (RDTSC) [s] STAT |   857.4368 |  26.7949 |  26.7949 |  26.7949 |\n",
      "| Runtime unhalted [s] STAT |    11.9299 |        0 |  11.8829 |   0.3728 |\n",
      "|      Clock [MHz] STAT     | 16000.1414 | 798.4320 | 801.3755 | 500.0044 |\n",
      "|          CPI STAT         |    52.5103 |   0.2674 |  26.2051 |   1.6409 |\n",
      "|    Temperature [C] STAT   |        730 |       18 |       27 |  22.8125 |\n",
      "|      Energy [J] STAT      |  1032.6894 |        0 | 534.1400 |  32.2715 |\n",
      "|       Power [W] STAT      |    38.5405 |        0 |  19.9344 |   1.2044 |\n",
      "|    Energy PP0 [J] STAT    |          0 |        0 |        0 |        0 |\n",
      "|     Power PP0 [W] STAT    |          0 |        0 |        0 |        0 |\n",
      "|    Energy DRAM [J] STAT   |    79.5384 |        0 |  72.1068 |   2.4856 |\n",
      "|    Power DRAM [W] STAT    |     2.9685 |        0 |   2.6911 |   0.0928 |\n"
     ]
    }
   ],
   "source": [
    "# Operating at lowest freq.\n",
    "! ssh htseng@eevee \"/nfshome/htseng/courses/CSE142/demo/power/lowerMaxFreq.sh; cd /nfshome/htseng/courses/CSE142/demo/power/popcounts; make clean; make; time sudo likwid-perfctr -g ENERGY ./popcount_D\" | grep \"STAT\""
   ]
  },
  {
   "cell_type": "code",
   "execution_count": 11,
   "id": "a717df13-a68e-4eb9-b5d6-923e159a5b6e",
   "metadata": {},
   "outputs": [
    {
     "name": "stdout",
     "output_type": "stream",
     "text": [
      "Sleeping longer as likwid_sleep() called without prior initialization\n",
      "Sleeping longer as likwid_sleep() called without prior initialization\n",
      "|   INSTR_RETIRED_ANY STAT   |  FIXC0  | 80006278517 |   0 | 80002268802 | 2.500196e+09 |\n",
      "| CPU_CLK_UNHALTED_CORE STAT |  FIXC1  | 21388907101 |   0 | 21383021063 | 6.684033e+08 |\n",
      "|  CPU_CLK_UNHALTED_REF STAT |  FIXC2  | 12887195760 |   0 | 12874057992 | 4.027249e+08 |\n",
      "|       TEMP_CORE STAT       |   TMP0  |         744 |  18 |          27 |      23.2500 |\n",
      "|     PWR_PKG_ENERGY STAT    |   PWR0  |    382.1370 |   0 |    207.6589 |      11.9418 |\n",
      "|     PWR_PP0_ENERGY STAT    |   PWR1  |           0 |   0 |           0 |            0 |\n",
      "|    PWR_DRAM_ENERGY STAT    |   PWR3  |     45.9180 |   0 |     27.3861 |       1.4349 |\n",
      "|  Runtime (RDTSC) [s] STAT |   229.3504 |   7.1672 |    7.1672 |   7.1672 |\n",
      "| Runtime unhalted [s] STAT |    11.8830 |        0 |   11.8795 |   0.3713 |\n",
      "|      Clock [MHz] STAT     | 21668.3964 | 792.4088 | 2989.6823 | 677.1374 |\n",
      "|          CPI STAT         |   107.6729 |   0.2673 |   13.9764 |   3.3648 |\n",
      "|    Temperature [C] STAT   |        744 |       18 |        27 |  23.2500 |\n",
      "|      Energy [J] STAT      |   382.1370 |        0 |  207.6589 |  11.9418 |\n",
      "|       Power [W] STAT      |    53.3171 |        0 |   28.9733 |   1.6662 |\n",
      "|    Energy PP0 [J] STAT    |          0 |        0 |         0 |        0 |\n",
      "|     Power PP0 [W] STAT    |          0 |        0 |         0 |        0 |\n",
      "|    Energy DRAM [J] STAT   |    45.9180 |        0 |   27.3861 |   1.4349 |\n",
      "|    Power DRAM [W] STAT    |     6.4066 |        0 |    3.8210 |   0.2002 |\n"
     ]
    }
   ],
   "source": [
    "# Allowing turbo boost\n",
    "! ssh htseng@eevee \"/nfshome/htseng/courses/CS203/demo/power/restoreMaxFreq.sh; cd /nfshome/htseng/courses/CS203/demo/power/popcounts;  sudo likwid-perfctr -g ENERGY ./popcount_D\" | grep \"STAT\""
   ]
  },
  {
   "cell_type": "code",
   "execution_count": 38,
   "id": "cbcac097-8122-482d-bbd0-f4a6e04e0fe8",
   "metadata": {},
   "outputs": [
    {
     "name": "stdout",
     "output_type": "stream",
     "text": [
      "Sleeping longer as likwid_sleep() called without prior initialization\n",
      "Sleeping longer as likwid_sleep() called without prior initialization\n",
      "|   INSTR_RETIRED_ANY STAT   |  FIXC0  |  9319801705 |   0 |  9316611709 | 2.912438e+08 |\n",
      "| CPU_CLK_UNHALTED_CORE STAT |  FIXC1  |  6364606801 |   0 |  6359227008 | 1.988940e+08 |\n",
      "|  CPU_CLK_UNHALTED_REF STAT |  FIXC2  | 14320359432 |   0 | 14308253928 | 4.475112e+08 |\n",
      "|       TEMP_CORE STAT       |   TMP0  |         672 |  16 |          25 |           21 |\n",
      "|     PWR_PKG_ENERGY STAT    |   PWR0  |    309.0314 |   0 |    160.0001 |       9.6572 |\n",
      "|     PWR_PP0_ENERGY STAT    |   PWR1  |           0 |   0 |           0 |            0 |\n",
      "|    PWR_DRAM_ENERGY STAT    |   PWR3  |     23.2114 |   0 |     20.7645 |       0.7254 |\n",
      "|  Runtime (RDTSC) [s] STAT |   256.5728 |   8.0179 |   8.0179 |   8.0179 |\n",
      "| Runtime unhalted [s] STAT |     3.5361 |        0 |   3.5329 |   0.1105 |\n",
      "|      Clock [MHz] STAT     | 13598.3625 | 798.9159 | 800.5734 | 424.9488 |\n",
      "|          CPI STAT         |    52.8851 |   0.6826 |   7.3758 |   1.6527 |\n",
      "|    Temperature [C] STAT   |        672 |       16 |       25 |       21 |\n",
      "|      Energy [J] STAT      |   309.0314 |        0 | 160.0001 |   9.6572 |\n",
      "|       Power [W] STAT      |    38.5426 |        0 |  19.9553 |   1.2045 |\n",
      "|    Energy PP0 [J] STAT    |          0 |        0 |        0 |        0 |\n",
      "|     Power PP0 [W] STAT    |          0 |        0 |        0 |        0 |\n",
      "|    Energy DRAM [J] STAT   |    23.2114 |        0 |  20.7645 |   0.7254 |\n",
      "|    Power DRAM [W] STAT    |     2.8950 |        0 |   2.5898 |   0.0905 |\n",
      "\n",
      "real\t0m9.414s\n",
      "user\t0m8.092s\n",
      "sys\t0m0.129s\n"
     ]
    }
   ],
   "source": [
    "# Operating at lowest freq.\n",
    "! ssh htseng@eevee \"/nfshome/htseng/courses/CS203/demo/power/lowerMaxFreq.sh; cd /nfshome/htseng/courses/CS203/demo/power;  time sudo likwid-perfctr -g ENERGY matrix_mul/blockmm_pthread 1024 16 32\" | grep \"STAT\""
   ]
  },
  {
   "cell_type": "code",
   "execution_count": 39,
   "id": "9fbcd488-84b3-4b4f-9db1-f1732c41bef9",
   "metadata": {},
   "outputs": [
    {
     "name": "stdout",
     "output_type": "stream",
     "text": [
      "Sleeping longer as likwid_sleep() called without prior initialization\n",
      "Sleeping longer as likwid_sleep() called without prior initialization\n",
      "|   INSTR_RETIRED_ANY STAT   |  FIXC0  | 9321315256 |   0 | 9316610267 | 2.912911e+08 |\n",
      "| CPU_CLK_UNHALTED_CORE STAT |  FIXC1  | 6406740239 |   0 | 6400177256 | 2.002106e+08 |\n",
      "|  CPU_CLK_UNHALTED_REF STAT |  FIXC2  | 3872239056 |   0 | 3857685408 | 1.210075e+08 |\n",
      "|       TEMP_CORE STAT       |   TMP0  |        703 |  17 |         26 |      21.9688 |\n",
      "|     PWR_PKG_ENERGY STAT    |   PWR0  |   117.4410 |   0 |    64.5992 |       3.6700 |\n",
      "|     PWR_PP0_ENERGY STAT    |   PWR1  |          0 |   0 |          0 |            0 |\n",
      "|    PWR_DRAM_ENERGY STAT    |   PWR3  |    13.8510 |   0 |     8.2689 |       0.4328 |\n",
      "|  Runtime (RDTSC) [s] STAT |    69.7344 |   2.1792 |    2.1792 |   2.1792 |\n",
      "| Runtime unhalted [s] STAT |     3.5594 |        0 |    3.5557 |   0.1112 |\n",
      "|      Clock [MHz] STAT     | 20211.6724 | 799.6763 | 2986.3295 | 631.6148 |\n",
      "|          CPI STAT         |   122.5250 |   0.6870 |   37.2520 |   3.8289 |\n",
      "|    Temperature [C] STAT   |        703 |       17 |        26 |  21.9688 |\n",
      "|      Energy [J] STAT      |   117.4410 |        0 |   64.5992 |   3.6700 |\n",
      "|       Power [W] STAT      |    53.8919 |        0 |   29.6436 |   1.6841 |\n",
      "|    Energy PP0 [J] STAT    |          0 |        0 |         0 |        0 |\n",
      "|     Power PP0 [W] STAT    |          0 |        0 |         0 |        0 |\n",
      "|    Energy DRAM [J] STAT   |    13.8510 |        0 |    8.2689 |   0.4328 |\n",
      "|    Power DRAM [W] STAT    |     6.3561 |        0 |    3.7945 |   0.1986 |\n",
      "\n",
      "real\t0m3.537s\n",
      "user\t0m2.244s\n",
      "sys\t0m0.107s\n"
     ]
    }
   ],
   "source": [
    "# Allowing turbo boost\n",
    "! ssh htseng@eevee \"/nfshome/htseng/courses/CS203/demo/power/restoreMaxFreq.sh; cd /nfshome/htseng/courses/CS203/demo/power;  time sudo likwid-perfctr -g ENERGY matrix_mul/blockmm_pthread 1024 16 4\" | grep \"STAT\""
   ]
  },
  {
   "cell_type": "code",
   "execution_count": null,
   "id": "bfc4f87c-aff2-44e3-9e1b-1c273d72d41a",
   "metadata": {},
   "outputs": [],
   "source": []
  }
 ],
 "metadata": {
  "kernelspec": {
   "display_name": "Python 3 (ipykernel)",
   "language": "python",
   "name": "python3"
  },
  "language_info": {
   "codemirror_mode": {
    "name": "ipython",
    "version": 3
   },
   "file_extension": ".py",
   "mimetype": "text/x-python",
   "name": "python",
   "nbconvert_exporter": "python",
   "pygments_lexer": "ipython3",
   "version": "3.12.3"
  },
  "widgets": {
   "application/vnd.jupyter.widget-state+json": {
    "state": {},
    "version_major": 2,
    "version_minor": 0
   }
  }
 },
 "nbformat": 4,
 "nbformat_minor": 5
}
