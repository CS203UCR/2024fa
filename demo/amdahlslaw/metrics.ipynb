{
 "cells": [
  {
   "cell_type": "code",
   "execution_count": 1,
   "id": "39bd05fd-cae3-4bed-9b16-0114306cfc72",
   "metadata": {},
   "outputs": [
    {
     "data": {
      "text/html": [
       "<style>h1 {font-size: 2vw;} h2 {font-size: 1.5vw;} p {font-size: 1.4vw;} div.prompt, code, output, prompt, kbd, pre, samp {font-family: 'SF Mono', 'Courier New', Courier, monospace, sans-serif !important;font-size: 1.4vw !important;}</style>"
      ],
      "text/plain": [
       "<IPython.core.display.HTML object>"
      ]
     },
     "metadata": {},
     "output_type": "display_data"
    }
   ],
   "source": [
    "# Please execute/shift-return this cell everytime you run the notebook.  Don't edit it. \n",
    "%load_ext autoreload\n",
    "%autoreload 2\n",
    "from notebook import * "
   ]
  },
  {
   "cell_type": "markdown",
   "id": "153bf8bc-4669-497c-be58-87dfca91233a",
   "metadata": {},
   "source": [
    "# Our processor"
   ]
  },
  {
   "cell_type": "code",
   "execution_count": 22,
   "id": "843a92c4-efc7-40a6-ac57-dfd337b89ce8",
   "metadata": {},
   "outputs": [
    {
     "name": "stdout",
     "output_type": "stream",
     "text": [
      "Architecture:             x86_64\n",
      "  CPU op-mode(s):         32-bit, 64-bit\n",
      "  Address sizes:          46 bits physical, 48 bits virtual\n",
      "  Byte Order:             Little Endian\n",
      "CPU(s):                   24\n",
      "  On-line CPU(s) list:    0-23\n",
      "Vendor ID:                GenuineIntel\n",
      "  Model name:             13th Gen Intel(R) Core(TM) i7-13700\n",
      "    CPU family:           6\n",
      "    Model:                183\n",
      "    Thread(s) per core:   2\n",
      "    Core(s) per socket:   16\n",
      "    Socket(s):            1\n",
      "    Stepping:             1\n",
      "    CPU(s) scaling MHz:   39%\n",
      "    CPU max MHz:          5200.0000\n",
      "    CPU min MHz:          800.0000\n",
      "    BogoMIPS:             4224.00\n",
      "    Flags:                fpu vme de pse tsc msr pae mce cx8 apic sep mtrr pge m\n",
      "                          ca cmov pat pse36 clflush dts acpi mmx fxsr sse sse2 s\n",
      "                          s ht tm pbe syscall nx pdpe1gb rdtscp lm constant_tsc \n",
      "                          art arch_perfmon pebs bts rep_good nopl xtopology nons\n",
      "                          top_tsc cpuid aperfmperf tsc_known_freq pni pclmulqdq \n",
      "                          dtes64 monitor ds_cpl vmx smx est tm2 ssse3 sdbg fma c\n",
      "                          x16 xtpr pdcm sse4_1 sse4_2 x2apic movbe popcnt tsc_de\n",
      "                          adline_timer aes xsave avx f16c rdrand lahf_lm abm 3dn\n",
      "                          owprefetch cpuid_fault ssbd ibrs ibpb stibp ibrs_enhan\n",
      "                          ced tpr_shadow flexpriority ept vpid ept_ad fsgsbase t\n",
      "                          sc_adjust bmi1 avx2 smep bmi2 erms invpcid rdseed adx \n",
      "                          smap clflushopt clwb intel_pt sha_ni xsaveopt xsavec x\n",
      "                          getbv1 xsaves split_lock_detect user_shstk avx_vnni dt\n",
      "                          herm ida arat pln pts hwp hwp_notify hwp_act_window hw\n",
      "                          p_epp hwp_pkg_req hfi vnmi umip pku ospke waitpkg gfni\n",
      "                           vaes vpclmulqdq tme rdpid movdiri movdir64b fsrm md_c\n",
      "                          lear serialize pconfig arch_lbr ibt flush_l1d arch_cap\n",
      "                          abilities\n",
      "Virtualization features:  \n",
      "  Virtualization:         VT-x\n",
      "Caches (sum of all):      \n",
      "  L1d:                    640 KiB (16 instances)\n",
      "  L1i:                    768 KiB (16 instances)\n",
      "  L2:                     24 MiB (10 instances)\n",
      "  L3:                     30 MiB (1 instance)\n",
      "NUMA:                     \n",
      "  NUMA node(s):           1\n",
      "  NUMA node0 CPU(s):      0-23\n",
      "Vulnerabilities:          \n",
      "  Gather data sampling:   Not affected\n",
      "  Itlb multihit:          Not affected\n",
      "  L1tf:                   Not affected\n",
      "  Mds:                    Not affected\n",
      "  Meltdown:               Not affected\n",
      "  Mmio stale data:        Not affected\n",
      "  Reg file data sampling: Mitigation; Clear Register File\n",
      "  Retbleed:               Not affected\n",
      "  Spec rstack overflow:   Not affected\n",
      "  Spec store bypass:      Mitigation; Speculative Store Bypass disabled via prct\n",
      "                          l\n",
      "  Spectre v1:             Mitigation; usercopy/swapgs barriers and __user pointe\n",
      "                          r sanitization\n",
      "  Spectre v2:             Mitigation; Enhanced / Automatic IBRS; IBPB conditiona\n",
      "                          l; RSB filling; PBRSB-eIBRS SW sequence; BHI BHI_DIS_S\n",
      "  Srbds:                  Not affected\n",
      "  Tsx async abort:        Not affected\n",
      "Tue Oct  1 11:47:12 2024       \n",
      "+-----------------------------------------------------------------------------------------+\n",
      "| NVIDIA-SMI 555.42.06              Driver Version: 555.42.06      CUDA Version: 12.5     |\n",
      "|-----------------------------------------+------------------------+----------------------+\n",
      "| GPU  Name                 Persistence-M | Bus-Id          Disp.A | Volatile Uncorr. ECC |\n",
      "| Fan  Temp   Perf          Pwr:Usage/Cap |           Memory-Usage | GPU-Util  Compute M. |\n",
      "|                                         |                        |               MIG M. |\n",
      "|=========================================+========================+======================|\n",
      "|   0  NVIDIA GeForce RTX 4070 ...    Off |   00000000:01:00.0 Off |                  N/A |\n",
      "| 32%   35C    P8             11W /  285W |      15MiB /  16376MiB |      0%      Default |\n",
      "|                                         |                        |                  N/A |\n",
      "+-----------------------------------------+------------------------+----------------------+\n",
      "                                                                                         \n",
      "+-----------------------------------------------------------------------------------------+\n",
      "| Processes:                                                                              |\n",
      "|  GPU   GI   CI        PID   Type   Process name                              GPU Memory |\n",
      "|        ID   ID                                                               Usage      |\n",
      "|=========================================================================================|\n",
      "|    0   N/A  N/A      5064      G   /usr/lib/xorg/Xorg                              4MiB |\n",
      "+-----------------------------------------------------------------------------------------+\n"
     ]
    }
   ],
   "source": [
    "! lscpu\n",
    "! nvidia-smi"
   ]
  },
  {
   "cell_type": "markdown",
   "id": "3747180a-ce28-4329-b26e-1c17ac309e97",
   "metadata": {},
   "source": [
    "# Choose the \"right\" metrics\n",
    "\n",
    "## Throughput and Latency\n"
   ]
  },
  {
   "cell_type": "markdown",
   "id": "9aebafa3-2b3e-4088-a67e-18e3798a0f9f",
   "metadata": {},
   "source": [
    "## FLOPs"
   ]
  },
  {
   "cell_type": "code",
   "execution_count": 23,
   "id": "63158edb-722c-4f04-88fe-4080b9c7e99e",
   "metadata": {},
   "outputs": [
    {
     "name": "stdout",
     "output_type": "stream",
     "text": [
      "make: Nothing to be done for 'all'.\r\n"
     ]
    }
   ],
   "source": [
    "! cd metrics; make; echo \"type,size,GLOPS,GPU_time,total_time\" > flops.csv"
   ]
  },
  {
   "cell_type": "code",
   "execution_count": 24,
   "id": "5dd903d6-e9d8-498a-a1e5-b5ef03c624e9",
   "metadata": {},
   "outputs": [
    {
     "name": "stdout",
     "output_type": "stream",
     "text": [
      "Data type size: 4\n",
      "\n",
      "Time: 4247.589 ms\n",
      "\n",
      "Throughput: 4.04 GFLOPS\n",
      "\n",
      "2048, 4.04, 0, 4.247589\n",
      "\n",
      "real\t0m4.352s\n",
      "user\t0m4.337s\n",
      "sys\t0m0.014s\n"
     ]
    }
   ],
   "source": [
    "! cd ./metrics; time ./cpumm 2048 512"
   ]
  },
  {
   "cell_type": "code",
   "execution_count": 25,
   "id": "51531017-ea4a-4fe9-afe0-91ca7d43d9b1",
   "metadata": {},
   "outputs": [
    {
     "name": "stdout",
     "output_type": "stream",
     "text": [
      "Data Type Size: 4\n",
      "Time elapsed on matrix multiplication of 2048x2048 . 2048x2048 on GPU: 20.945568 ms.\n",
      "\n",
      "\n",
      "Throughput: 820.22 GFLOPS\n",
      "\n",
      "\n",
      "real\t0m0.466s\n",
      "user\t0m0.126s\n",
      "sys\t0m0.333s\n"
     ]
    }
   ],
   "source": [
    "! cd ./metrics; echo -n \"float,\" >> flops.csv; time ./cudamm 2048 1 2>> flops.csv "
   ]
  },
  {
   "cell_type": "code",
   "execution_count": 26,
   "id": "f536894b-44e9-432f-8897-224a8625d47b",
   "metadata": {},
   "outputs": [
    {
     "name": "stdout",
     "output_type": "stream",
     "text": [
      "Data Type Size: 4\n",
      "Time elapsed on matrix multiplication of 4096x4096 . 4096x4096 on GPU: 317.246918 ms.\n",
      "\n",
      "\n",
      "Throughput: 433.22 GFLOPS\n",
      "\n",
      "\n",
      "real\t0m1.157s\n",
      "user\t0m0.692s\n",
      "sys\t0m0.461s\n"
     ]
    }
   ],
   "source": [
    "! cd ./metrics; echo -n \"float,\" >> flops.csv; time ./cudamm 4096 1 2>> flops.csv "
   ]
  },
  {
   "cell_type": "code",
   "execution_count": 27,
   "id": "7cd5ca1c-59b5-4327-88e6-147206eb8cdc",
   "metadata": {},
   "outputs": [
    {
     "name": "stdout",
     "output_type": "stream",
     "text": [
      "Data Type Size: 4\n",
      "Time elapsed on matrix multiplication of 8192x8192 . 8192x8192 on GPU: 984.820984 ms.\n",
      "\n",
      "\n",
      "Throughput: 1116.46 GFLOPS\n",
      "\n",
      "\n",
      "real\t0m2.770s\n",
      "user\t0m2.271s\n",
      "sys\t0m0.496s\n"
     ]
    }
   ],
   "source": [
    "! cd metrics; echo -n \"float,\" >> flops.csv; time ./cudamm 8192 1 2>> flops.csv "
   ]
  },
  {
   "cell_type": "code",
   "execution_count": 28,
   "id": "2b1309ab-9080-426d-aff0-6c16c48691ff",
   "metadata": {},
   "outputs": [
    {
     "name": "stdout",
     "output_type": "stream",
     "text": [
      "Data Type Size: 8\n",
      "Time elapsed on matrix multiplication of 8192x8192 . 8192x8192 on GPU: 2654.174805 ms.\n",
      "\n",
      "\n",
      "Throughput: 414.26 GFLOPS\n",
      "\n",
      "\n",
      "real\t0m4.590s\n",
      "user\t0m3.917s\n",
      "sys\t0m0.667s\n"
     ]
    }
   ],
   "source": [
    "! cd metrics; echo -n \"double,\" >> flops.csv; time ./cudamm_double 8192 1 2>> flops.csv "
   ]
  },
  {
   "cell_type": "code",
   "execution_count": 29,
   "id": "6dcc8880-1fa6-403a-a0a2-96b3be4e46e7",
   "metadata": {},
   "outputs": [
    {
     "data": {
      "text/html": [
       "<style type=\"text/css\">\n",
       "#T_e6ea2_row0_col0, #T_e6ea2_row0_col1, #T_e6ea2_row0_col2, #T_e6ea2_row0_col3, #T_e6ea2_row0_col4, #T_e6ea2_row0_col5, #T_e6ea2_row1_col0, #T_e6ea2_row1_col1, #T_e6ea2_row1_col2, #T_e6ea2_row1_col3, #T_e6ea2_row1_col4, #T_e6ea2_row1_col5, #T_e6ea2_row2_col0, #T_e6ea2_row2_col1, #T_e6ea2_row2_col2, #T_e6ea2_row2_col3, #T_e6ea2_row2_col4, #T_e6ea2_row2_col5, #T_e6ea2_row3_col0, #T_e6ea2_row3_col1, #T_e6ea2_row3_col2, #T_e6ea2_row3_col3, #T_e6ea2_row3_col4, #T_e6ea2_row3_col5 {\n",
       "  font-family: SF Mono;\n",
       "  font-size: 1.4vw;\n",
       "}\n",
       "</style>\n",
       "<table id=\"T_e6ea2\">\n",
       "  <thead>\n",
       "    <tr>\n",
       "      <th class=\"blank level0\" >&nbsp;</th>\n",
       "      <th id=\"T_e6ea2_level0_col0\" class=\"col_heading level0 col0\" >index</th>\n",
       "      <th id=\"T_e6ea2_level0_col1\" class=\"col_heading level0 col1\" >type</th>\n",
       "      <th id=\"T_e6ea2_level0_col2\" class=\"col_heading level0 col2\" >size</th>\n",
       "      <th id=\"T_e6ea2_level0_col3\" class=\"col_heading level0 col3\" >GLOPS</th>\n",
       "      <th id=\"T_e6ea2_level0_col4\" class=\"col_heading level0 col4\" >GPU_time</th>\n",
       "      <th id=\"T_e6ea2_level0_col5\" class=\"col_heading level0 col5\" >total_time</th>\n",
       "    </tr>\n",
       "  </thead>\n",
       "  <tbody>\n",
       "    <tr>\n",
       "      <th id=\"T_e6ea2_level0_row0\" class=\"row_heading level0 row0\" >0</th>\n",
       "      <td id=\"T_e6ea2_row0_col0\" class=\"data row0 col0\" >0</td>\n",
       "      <td id=\"T_e6ea2_row0_col1\" class=\"data row0 col1\" >float</td>\n",
       "      <td id=\"T_e6ea2_row0_col2\" class=\"data row0 col2\" >2048</td>\n",
       "      <td id=\"T_e6ea2_row0_col3\" class=\"data row0 col3\" >820.220000</td>\n",
       "      <td id=\"T_e6ea2_row0_col4\" class=\"data row0 col4\" >20.945568</td>\n",
       "      <td id=\"T_e6ea2_row0_col5\" class=\"data row0 col5\" >0.265874</td>\n",
       "    </tr>\n",
       "    <tr>\n",
       "      <th id=\"T_e6ea2_level0_row1\" class=\"row_heading level0 row1\" >1</th>\n",
       "      <td id=\"T_e6ea2_row1_col0\" class=\"data row1 col0\" >1</td>\n",
       "      <td id=\"T_e6ea2_row1_col1\" class=\"data row1 col1\" >float</td>\n",
       "      <td id=\"T_e6ea2_row1_col2\" class=\"data row1 col2\" >4096</td>\n",
       "      <td id=\"T_e6ea2_row1_col3\" class=\"data row1 col3\" >433.220000</td>\n",
       "      <td id=\"T_e6ea2_row1_col4\" class=\"data row1 col4\" >317.246918</td>\n",
       "      <td id=\"T_e6ea2_row1_col5\" class=\"data row1 col5\" >0.674624</td>\n",
       "    </tr>\n",
       "    <tr>\n",
       "      <th id=\"T_e6ea2_level0_row2\" class=\"row_heading level0 row2\" >2</th>\n",
       "      <td id=\"T_e6ea2_row2_col0\" class=\"data row2 col0\" >2</td>\n",
       "      <td id=\"T_e6ea2_row2_col1\" class=\"data row2 col1\" >float</td>\n",
       "      <td id=\"T_e6ea2_row2_col2\" class=\"data row2 col2\" >8192</td>\n",
       "      <td id=\"T_e6ea2_row2_col3\" class=\"data row2 col3\" >1116.460000</td>\n",
       "      <td id=\"T_e6ea2_row2_col4\" class=\"data row2 col4\" >984.820984</td>\n",
       "      <td id=\"T_e6ea2_row2_col5\" class=\"data row2 col5\" >1.241310</td>\n",
       "    </tr>\n",
       "    <tr>\n",
       "      <th id=\"T_e6ea2_level0_row3\" class=\"row_heading level0 row3\" >3</th>\n",
       "      <td id=\"T_e6ea2_row3_col0\" class=\"data row3 col0\" >3</td>\n",
       "      <td id=\"T_e6ea2_row3_col1\" class=\"data row3 col1\" >double</td>\n",
       "      <td id=\"T_e6ea2_row3_col2\" class=\"data row3 col2\" >8192</td>\n",
       "      <td id=\"T_e6ea2_row3_col3\" class=\"data row3 col3\" >414.260000</td>\n",
       "      <td id=\"T_e6ea2_row3_col4\" class=\"data row3 col4\" >2654.174805</td>\n",
       "      <td id=\"T_e6ea2_row3_col5\" class=\"data row3 col5\" >2.978629</td>\n",
       "    </tr>\n",
       "  </tbody>\n",
       "</table>\n"
      ],
      "text/plain": [
       "<pandas.io.formats.style.Styler at 0x7163142680b0>"
      ]
     },
     "metadata": {},
     "output_type": "display_data"
    }
   ],
   "source": [
    "display_df_mono(render_csv(\"metrics/flops.csv\"))"
   ]
  },
  {
   "cell_type": "code",
   "execution_count": 30,
   "id": "3dfc901b-42a7-44aa-9d30-1a75576e18cb",
   "metadata": {},
   "outputs": [
    {
     "name": "stdout",
     "output_type": "stream",
     "text": [
      "Tue Oct  1 11:48:17 2024       \n",
      "+-----------------------------------------------------------------------------------------+\n",
      "| NVIDIA-SMI 555.42.06              Driver Version: 555.42.06      CUDA Version: 12.5     |\n",
      "|-----------------------------------------+------------------------+----------------------+\n",
      "| GPU  Name                 Persistence-M | Bus-Id          Disp.A | Volatile Uncorr. ECC |\n",
      "| Fan  Temp   Perf          Pwr:Usage/Cap |           Memory-Usage | GPU-Util  Compute M. |\n",
      "|                                         |                        |               MIG M. |\n",
      "|=========================================+========================+======================|\n",
      "|   0  NVIDIA GeForce RTX 4090        On  |   00000000:01:00.0 Off |                  Off |\n",
      "|  0%   44C    P8             14W /  450W |       2MiB /  24564MiB |      0%      Default |\n",
      "|                                         |                        |                  N/A |\n",
      "+-----------------------------------------+------------------------+----------------------+\n",
      "                                                                                         \n",
      "+-----------------------------------------------------------------------------------------+\n",
      "| Processes:                                                                              |\n",
      "|  GPU   GI   CI        PID   Type   Process name                              GPU Memory |\n",
      "|        ID   ID                                                               Usage      |\n",
      "|=========================================================================================|\n",
      "|  No running processes found                                                             |\n",
      "+-----------------------------------------------------------------------------------------+\n",
      "Data Type Size: 4\n",
      "Time elapsed on matrix multiplication of 8192x8192 . 8192x8192 on GPU: 348.364441 ms.\n",
      "\n",
      "\n",
      "Throughput: 3156.21 GFLOPS\n",
      "\n",
      "\n",
      "real\t0m1.998s\n",
      "user\t0m1.624s\n",
      "sys\t0m0.366s\n"
     ]
    }
   ],
   "source": [
    "! ssh htseng@lapras \"nvidia-smi; echo -n 'float,'>> /nfshome/htseng/courses/CS203/demo/amdahlslaw/metrics/flops.csv; time /nfshome/htseng/courses/CS203/demo/amdahlslaw/metrics/cudamm 8192 1 2>> /nfshome/htseng/courses/CS203/demo/amdahlslaw/metrics/flops.csv \""
   ]
  },
  {
   "cell_type": "code",
   "execution_count": 31,
   "id": "33cd2bc2-7414-4e45-8ccd-cc7662393ce8",
   "metadata": {},
   "outputs": [
    {
     "data": {
      "text/html": [
       "<style type=\"text/css\">\n",
       "#T_9dde7_row0_col0, #T_9dde7_row0_col1, #T_9dde7_row0_col2, #T_9dde7_row0_col3, #T_9dde7_row0_col4, #T_9dde7_row0_col5, #T_9dde7_row1_col0, #T_9dde7_row1_col1, #T_9dde7_row1_col2, #T_9dde7_row1_col3, #T_9dde7_row1_col4, #T_9dde7_row1_col5, #T_9dde7_row2_col0, #T_9dde7_row2_col1, #T_9dde7_row2_col2, #T_9dde7_row2_col3, #T_9dde7_row2_col4, #T_9dde7_row2_col5, #T_9dde7_row3_col0, #T_9dde7_row3_col1, #T_9dde7_row3_col2, #T_9dde7_row3_col3, #T_9dde7_row3_col4, #T_9dde7_row3_col5, #T_9dde7_row4_col0, #T_9dde7_row4_col1, #T_9dde7_row4_col2, #T_9dde7_row4_col3, #T_9dde7_row4_col4, #T_9dde7_row4_col5 {\n",
       "  font-family: SF Mono;\n",
       "  font-size: 1.4vw;\n",
       "}\n",
       "</style>\n",
       "<table id=\"T_9dde7\">\n",
       "  <thead>\n",
       "    <tr>\n",
       "      <th class=\"blank level0\" >&nbsp;</th>\n",
       "      <th id=\"T_9dde7_level0_col0\" class=\"col_heading level0 col0\" >index</th>\n",
       "      <th id=\"T_9dde7_level0_col1\" class=\"col_heading level0 col1\" >type</th>\n",
       "      <th id=\"T_9dde7_level0_col2\" class=\"col_heading level0 col2\" >size</th>\n",
       "      <th id=\"T_9dde7_level0_col3\" class=\"col_heading level0 col3\" >GLOPS</th>\n",
       "      <th id=\"T_9dde7_level0_col4\" class=\"col_heading level0 col4\" >GPU_time</th>\n",
       "      <th id=\"T_9dde7_level0_col5\" class=\"col_heading level0 col5\" >total_time</th>\n",
       "    </tr>\n",
       "  </thead>\n",
       "  <tbody>\n",
       "    <tr>\n",
       "      <th id=\"T_9dde7_level0_row0\" class=\"row_heading level0 row0\" >0</th>\n",
       "      <td id=\"T_9dde7_row0_col0\" class=\"data row0 col0\" >0</td>\n",
       "      <td id=\"T_9dde7_row0_col1\" class=\"data row0 col1\" >float</td>\n",
       "      <td id=\"T_9dde7_row0_col2\" class=\"data row0 col2\" >2048</td>\n",
       "      <td id=\"T_9dde7_row0_col3\" class=\"data row0 col3\" >820.220000</td>\n",
       "      <td id=\"T_9dde7_row0_col4\" class=\"data row0 col4\" >20.945568</td>\n",
       "      <td id=\"T_9dde7_row0_col5\" class=\"data row0 col5\" >0.265874</td>\n",
       "    </tr>\n",
       "    <tr>\n",
       "      <th id=\"T_9dde7_level0_row1\" class=\"row_heading level0 row1\" >1</th>\n",
       "      <td id=\"T_9dde7_row1_col0\" class=\"data row1 col0\" >1</td>\n",
       "      <td id=\"T_9dde7_row1_col1\" class=\"data row1 col1\" >float</td>\n",
       "      <td id=\"T_9dde7_row1_col2\" class=\"data row1 col2\" >4096</td>\n",
       "      <td id=\"T_9dde7_row1_col3\" class=\"data row1 col3\" >433.220000</td>\n",
       "      <td id=\"T_9dde7_row1_col4\" class=\"data row1 col4\" >317.246918</td>\n",
       "      <td id=\"T_9dde7_row1_col5\" class=\"data row1 col5\" >0.674624</td>\n",
       "    </tr>\n",
       "    <tr>\n",
       "      <th id=\"T_9dde7_level0_row2\" class=\"row_heading level0 row2\" >2</th>\n",
       "      <td id=\"T_9dde7_row2_col0\" class=\"data row2 col0\" >2</td>\n",
       "      <td id=\"T_9dde7_row2_col1\" class=\"data row2 col1\" >float</td>\n",
       "      <td id=\"T_9dde7_row2_col2\" class=\"data row2 col2\" >8192</td>\n",
       "      <td id=\"T_9dde7_row2_col3\" class=\"data row2 col3\" >1116.460000</td>\n",
       "      <td id=\"T_9dde7_row2_col4\" class=\"data row2 col4\" >984.820984</td>\n",
       "      <td id=\"T_9dde7_row2_col5\" class=\"data row2 col5\" >1.241310</td>\n",
       "    </tr>\n",
       "    <tr>\n",
       "      <th id=\"T_9dde7_level0_row3\" class=\"row_heading level0 row3\" >3</th>\n",
       "      <td id=\"T_9dde7_row3_col0\" class=\"data row3 col0\" >3</td>\n",
       "      <td id=\"T_9dde7_row3_col1\" class=\"data row3 col1\" >double</td>\n",
       "      <td id=\"T_9dde7_row3_col2\" class=\"data row3 col2\" >8192</td>\n",
       "      <td id=\"T_9dde7_row3_col3\" class=\"data row3 col3\" >414.260000</td>\n",
       "      <td id=\"T_9dde7_row3_col4\" class=\"data row3 col4\" >2654.174805</td>\n",
       "      <td id=\"T_9dde7_row3_col5\" class=\"data row3 col5\" >2.978629</td>\n",
       "    </tr>\n",
       "    <tr>\n",
       "      <th id=\"T_9dde7_level0_row4\" class=\"row_heading level0 row4\" >4</th>\n",
       "      <td id=\"T_9dde7_row4_col0\" class=\"data row4 col0\" >4</td>\n",
       "      <td id=\"T_9dde7_row4_col1\" class=\"data row4 col1\" >float</td>\n",
       "      <td id=\"T_9dde7_row4_col2\" class=\"data row4 col2\" >8192</td>\n",
       "      <td id=\"T_9dde7_row4_col3\" class=\"data row4 col3\" >3156.210000</td>\n",
       "      <td id=\"T_9dde7_row4_col4\" class=\"data row4 col4\" >348.364441</td>\n",
       "      <td id=\"T_9dde7_row4_col5\" class=\"data row4 col5\" >0.498058</td>\n",
       "    </tr>\n",
       "  </tbody>\n",
       "</table>\n"
      ],
      "text/plain": [
       "<pandas.io.formats.style.Styler at 0x7163142680b0>"
      ]
     },
     "metadata": {},
     "output_type": "display_data"
    }
   ],
   "source": [
    "display_df_mono(render_csv(\"metrics/flops.csv\"))"
   ]
  },
  {
   "cell_type": "code",
   "execution_count": 32,
   "id": "00b29e0d-57a0-46e5-91cf-0b89656d96c1",
   "metadata": {},
   "outputs": [
    {
     "name": "stdout",
     "output_type": "stream",
     "text": [
      "2.2445804579819977\n"
     ]
    }
   ],
   "source": [
    "FLOPS_Ratio = 781.863586/348.333954\n",
    "print(FLOPS_Ratio)"
   ]
  },
  {
   "cell_type": "code",
   "execution_count": 33,
   "id": "54ec263a-370f-4557-a60c-4b6053bd1ee1",
   "metadata": {},
   "outputs": [
    {
     "name": "stdout",
     "output_type": "stream",
     "text": [
      "1.3108990457056755\n"
     ]
    }
   ],
   "source": [
    "Speedup = 2.610/1.991\n",
    "print(Speedup)"
   ]
  },
  {
   "cell_type": "code",
   "execution_count": 34,
   "id": "ade98520-6b66-46fd-bc8e-8c40e76a9299",
   "metadata": {},
   "outputs": [
    {
     "name": "stdout",
     "output_type": "stream",
     "text": [
      "Data Type Size: 4\n",
      "Time elapsed on matrix multiplication of 16x16 . 16x16 on GPU: 0.705824 ms.\n",
      "\n",
      "\n",
      "Throughput: 0.01 GFLOPS\n",
      "\n",
      "\n",
      "real\t0m0.410s\n",
      "user\t0m0.018s\n",
      "sys\t0m0.390s\n"
     ]
    }
   ],
   "source": [
    "! cd metrics;echo \"type,size,GLOPS,GPU_time,total_time\" > small.csv;echo -n \"float/GPU,\">> small.csv ; time ./cudamm 16 0 2>> small.csv "
   ]
  },
  {
   "cell_type": "code",
   "execution_count": 35,
   "id": "74caab1a-9df8-4822-9de6-d349745324b0",
   "metadata": {},
   "outputs": [
    {
     "name": "stdout",
     "output_type": "stream",
     "text": [
      "Data Type Size: 4\n",
      "Time elapsed on matrix multiplication of 32x32 . 32x32 on GPU: 0.773888 ms.\n",
      "\n",
      "\n",
      "Throughput: 0.08 GFLOPS\n",
      "\n"
     ]
    }
   ],
   "source": [
    "! cd metrics; echo -n \"float/GPU,\">> small.csv ; ./cudamm 32 0 2>> small.csv "
   ]
  },
  {
   "cell_type": "code",
   "execution_count": 36,
   "id": "4b5d8118",
   "metadata": {},
   "outputs": [
    {
     "name": "stdout",
     "output_type": "stream",
     "text": [
      "Data Type Size: 4\n",
      "Time elapsed on matrix multiplication of 64x64 . 64x64 on GPU: 0.141248 ms.\n",
      "\n",
      "\n",
      "Throughput: 3.71 GFLOPS\n",
      "\n"
     ]
    }
   ],
   "source": [
    "! cd metrics; echo -n \"float/GPU,\">> small.csv ; ./cudamm 64 0 2>> small.csv "
   ]
  },
  {
   "cell_type": "code",
   "execution_count": 37,
   "id": "7bb54e17-8ce9-4f8f-85b8-5cd17ab673fc",
   "metadata": {},
   "outputs": [
    {
     "name": "stdout",
     "output_type": "stream",
     "text": [
      "Data Type Size: 4\n",
      "Time elapsed on matrix multiplication of 128x128 . 128x128 on GPU: 0.197280 ms.\n",
      "\n",
      "\n",
      "Throughput: 21.26 GFLOPS\n",
      "\n"
     ]
    }
   ],
   "source": [
    "! cd metrics;  echo -n \"float/GPU,\">> small.csv ;./cudamm 128 0 2>> small.csv "
   ]
  },
  {
   "cell_type": "code",
   "execution_count": 38,
   "id": "f728fe22-f4c5-4569-86ff-29d2b82dfef3",
   "metadata": {},
   "outputs": [
    {
     "data": {
      "text/html": [
       "<style type=\"text/css\">\n",
       "#T_6aa2d_row0_col0, #T_6aa2d_row0_col1, #T_6aa2d_row0_col2, #T_6aa2d_row0_col3, #T_6aa2d_row0_col4, #T_6aa2d_row0_col5, #T_6aa2d_row1_col0, #T_6aa2d_row1_col1, #T_6aa2d_row1_col2, #T_6aa2d_row1_col3, #T_6aa2d_row1_col4, #T_6aa2d_row1_col5, #T_6aa2d_row2_col0, #T_6aa2d_row2_col1, #T_6aa2d_row2_col2, #T_6aa2d_row2_col3, #T_6aa2d_row2_col4, #T_6aa2d_row2_col5, #T_6aa2d_row3_col0, #T_6aa2d_row3_col1, #T_6aa2d_row3_col2, #T_6aa2d_row3_col3, #T_6aa2d_row3_col4, #T_6aa2d_row3_col5 {\n",
       "  font-family: SF Mono;\n",
       "  font-size: 1.4vw;\n",
       "}\n",
       "</style>\n",
       "<table id=\"T_6aa2d\">\n",
       "  <thead>\n",
       "    <tr>\n",
       "      <th class=\"blank level0\" >&nbsp;</th>\n",
       "      <th id=\"T_6aa2d_level0_col0\" class=\"col_heading level0 col0\" >index</th>\n",
       "      <th id=\"T_6aa2d_level0_col1\" class=\"col_heading level0 col1\" >type</th>\n",
       "      <th id=\"T_6aa2d_level0_col2\" class=\"col_heading level0 col2\" >size</th>\n",
       "      <th id=\"T_6aa2d_level0_col3\" class=\"col_heading level0 col3\" >GLOPS</th>\n",
       "      <th id=\"T_6aa2d_level0_col4\" class=\"col_heading level0 col4\" >GPU_time</th>\n",
       "      <th id=\"T_6aa2d_level0_col5\" class=\"col_heading level0 col5\" >total_time</th>\n",
       "    </tr>\n",
       "  </thead>\n",
       "  <tbody>\n",
       "    <tr>\n",
       "      <th id=\"T_6aa2d_level0_row0\" class=\"row_heading level0 row0\" >0</th>\n",
       "      <td id=\"T_6aa2d_row0_col0\" class=\"data row0 col0\" >0</td>\n",
       "      <td id=\"T_6aa2d_row0_col1\" class=\"data row0 col1\" >float/GPU</td>\n",
       "      <td id=\"T_6aa2d_row0_col2\" class=\"data row0 col2\" >16</td>\n",
       "      <td id=\"T_6aa2d_row0_col3\" class=\"data row0 col3\" >0.010000</td>\n",
       "      <td id=\"T_6aa2d_row0_col4\" class=\"data row0 col4\" >0.705824</td>\n",
       "      <td id=\"T_6aa2d_row0_col5\" class=\"data row0 col5\" >0.326507</td>\n",
       "    </tr>\n",
       "    <tr>\n",
       "      <th id=\"T_6aa2d_level0_row1\" class=\"row_heading level0 row1\" >1</th>\n",
       "      <td id=\"T_6aa2d_row1_col0\" class=\"data row1 col0\" >1</td>\n",
       "      <td id=\"T_6aa2d_row1_col1\" class=\"data row1 col1\" >float/GPU</td>\n",
       "      <td id=\"T_6aa2d_row1_col2\" class=\"data row1 col2\" >32</td>\n",
       "      <td id=\"T_6aa2d_row1_col3\" class=\"data row1 col3\" >0.080000</td>\n",
       "      <td id=\"T_6aa2d_row1_col4\" class=\"data row1 col4\" >0.773888</td>\n",
       "      <td id=\"T_6aa2d_row1_col5\" class=\"data row1 col5\" >0.310291</td>\n",
       "    </tr>\n",
       "    <tr>\n",
       "      <th id=\"T_6aa2d_level0_row2\" class=\"row_heading level0 row2\" >2</th>\n",
       "      <td id=\"T_6aa2d_row2_col0\" class=\"data row2 col0\" >2</td>\n",
       "      <td id=\"T_6aa2d_row2_col1\" class=\"data row2 col1\" >float/GPU</td>\n",
       "      <td id=\"T_6aa2d_row2_col2\" class=\"data row2 col2\" >64</td>\n",
       "      <td id=\"T_6aa2d_row2_col3\" class=\"data row2 col3\" >3.710000</td>\n",
       "      <td id=\"T_6aa2d_row2_col4\" class=\"data row2 col4\" >0.141248</td>\n",
       "      <td id=\"T_6aa2d_row2_col5\" class=\"data row2 col5\" >0.342714</td>\n",
       "    </tr>\n",
       "    <tr>\n",
       "      <th id=\"T_6aa2d_level0_row3\" class=\"row_heading level0 row3\" >3</th>\n",
       "      <td id=\"T_6aa2d_row3_col0\" class=\"data row3 col0\" >3</td>\n",
       "      <td id=\"T_6aa2d_row3_col1\" class=\"data row3 col1\" >float/GPU</td>\n",
       "      <td id=\"T_6aa2d_row3_col2\" class=\"data row3 col2\" >128</td>\n",
       "      <td id=\"T_6aa2d_row3_col3\" class=\"data row3 col3\" >21.260000</td>\n",
       "      <td id=\"T_6aa2d_row3_col4\" class=\"data row3 col4\" >0.197280</td>\n",
       "      <td id=\"T_6aa2d_row3_col5\" class=\"data row3 col5\" >0.308915</td>\n",
       "    </tr>\n",
       "  </tbody>\n",
       "</table>\n"
      ],
      "text/plain": [
       "<pandas.io.formats.style.Styler at 0x7163142680b0>"
      ]
     },
     "metadata": {},
     "output_type": "display_data"
    }
   ],
   "source": [
    "display_df_mono(render_csv(\"metrics/small.csv\"))"
   ]
  },
  {
   "cell_type": "code",
   "execution_count": 39,
   "id": "3bcd4351-670e-4bc0-a5f4-1104dc643a1a",
   "metadata": {},
   "outputs": [
    {
     "name": "stdout",
     "output_type": "stream",
     "text": [
      "Data type size: 4\r\n",
      "\r\n",
      "Time: 0.056 ms\r\n",
      "\r\n",
      "Throughput: 0.15 GFLOPS\r\n",
      "\r\n",
      "\r\n",
      "real\t0m0.002s\r\n",
      "user\t0m0.000s\r\n",
      "sys\t0m0.002s\r\n"
     ]
    }
   ],
   "source": [
    "! cd metrics; echo -n \"float/CPU,\">> small.csv ; time ./cpumm_float 16 16 2>> small.csv "
   ]
  },
  {
   "cell_type": "code",
   "execution_count": 40,
   "id": "ea3b5208-bc0d-4e07-838e-0fde627a20cb",
   "metadata": {},
   "outputs": [
    {
     "data": {
      "text/html": [
       "<style type=\"text/css\">\n",
       "#T_32355_row0_col0, #T_32355_row0_col1, #T_32355_row0_col2, #T_32355_row0_col3, #T_32355_row0_col4, #T_32355_row0_col5, #T_32355_row1_col0, #T_32355_row1_col1, #T_32355_row1_col2, #T_32355_row1_col3, #T_32355_row1_col4, #T_32355_row1_col5, #T_32355_row2_col0, #T_32355_row2_col1, #T_32355_row2_col2, #T_32355_row2_col3, #T_32355_row2_col4, #T_32355_row2_col5, #T_32355_row3_col0, #T_32355_row3_col1, #T_32355_row3_col2, #T_32355_row3_col3, #T_32355_row3_col4, #T_32355_row3_col5, #T_32355_row4_col0, #T_32355_row4_col1, #T_32355_row4_col2, #T_32355_row4_col3, #T_32355_row4_col4, #T_32355_row4_col5 {\n",
       "  font-family: SF Mono;\n",
       "  font-size: 1.4vw;\n",
       "}\n",
       "</style>\n",
       "<table id=\"T_32355\">\n",
       "  <thead>\n",
       "    <tr>\n",
       "      <th class=\"blank level0\" >&nbsp;</th>\n",
       "      <th id=\"T_32355_level0_col0\" class=\"col_heading level0 col0\" >index</th>\n",
       "      <th id=\"T_32355_level0_col1\" class=\"col_heading level0 col1\" >type</th>\n",
       "      <th id=\"T_32355_level0_col2\" class=\"col_heading level0 col2\" >size</th>\n",
       "      <th id=\"T_32355_level0_col3\" class=\"col_heading level0 col3\" >GLOPS</th>\n",
       "      <th id=\"T_32355_level0_col4\" class=\"col_heading level0 col4\" >GPU_time</th>\n",
       "      <th id=\"T_32355_level0_col5\" class=\"col_heading level0 col5\" >total_time</th>\n",
       "    </tr>\n",
       "  </thead>\n",
       "  <tbody>\n",
       "    <tr>\n",
       "      <th id=\"T_32355_level0_row0\" class=\"row_heading level0 row0\" >0</th>\n",
       "      <td id=\"T_32355_row0_col0\" class=\"data row0 col0\" >0</td>\n",
       "      <td id=\"T_32355_row0_col1\" class=\"data row0 col1\" >float/GPU</td>\n",
       "      <td id=\"T_32355_row0_col2\" class=\"data row0 col2\" >16</td>\n",
       "      <td id=\"T_32355_row0_col3\" class=\"data row0 col3\" >0.010000</td>\n",
       "      <td id=\"T_32355_row0_col4\" class=\"data row0 col4\" >0.705824</td>\n",
       "      <td id=\"T_32355_row0_col5\" class=\"data row0 col5\" >0.326507</td>\n",
       "    </tr>\n",
       "    <tr>\n",
       "      <th id=\"T_32355_level0_row1\" class=\"row_heading level0 row1\" >1</th>\n",
       "      <td id=\"T_32355_row1_col0\" class=\"data row1 col0\" >1</td>\n",
       "      <td id=\"T_32355_row1_col1\" class=\"data row1 col1\" >float/GPU</td>\n",
       "      <td id=\"T_32355_row1_col2\" class=\"data row1 col2\" >32</td>\n",
       "      <td id=\"T_32355_row1_col3\" class=\"data row1 col3\" >0.080000</td>\n",
       "      <td id=\"T_32355_row1_col4\" class=\"data row1 col4\" >0.773888</td>\n",
       "      <td id=\"T_32355_row1_col5\" class=\"data row1 col5\" >0.310291</td>\n",
       "    </tr>\n",
       "    <tr>\n",
       "      <th id=\"T_32355_level0_row2\" class=\"row_heading level0 row2\" >2</th>\n",
       "      <td id=\"T_32355_row2_col0\" class=\"data row2 col0\" >2</td>\n",
       "      <td id=\"T_32355_row2_col1\" class=\"data row2 col1\" >float/GPU</td>\n",
       "      <td id=\"T_32355_row2_col2\" class=\"data row2 col2\" >64</td>\n",
       "      <td id=\"T_32355_row2_col3\" class=\"data row2 col3\" >3.710000</td>\n",
       "      <td id=\"T_32355_row2_col4\" class=\"data row2 col4\" >0.141248</td>\n",
       "      <td id=\"T_32355_row2_col5\" class=\"data row2 col5\" >0.342714</td>\n",
       "    </tr>\n",
       "    <tr>\n",
       "      <th id=\"T_32355_level0_row3\" class=\"row_heading level0 row3\" >3</th>\n",
       "      <td id=\"T_32355_row3_col0\" class=\"data row3 col0\" >3</td>\n",
       "      <td id=\"T_32355_row3_col1\" class=\"data row3 col1\" >float/GPU</td>\n",
       "      <td id=\"T_32355_row3_col2\" class=\"data row3 col2\" >128</td>\n",
       "      <td id=\"T_32355_row3_col3\" class=\"data row3 col3\" >21.260000</td>\n",
       "      <td id=\"T_32355_row3_col4\" class=\"data row3 col4\" >0.197280</td>\n",
       "      <td id=\"T_32355_row3_col5\" class=\"data row3 col5\" >0.308915</td>\n",
       "    </tr>\n",
       "    <tr>\n",
       "      <th id=\"T_32355_level0_row4\" class=\"row_heading level0 row4\" >4</th>\n",
       "      <td id=\"T_32355_row4_col0\" class=\"data row4 col0\" >4</td>\n",
       "      <td id=\"T_32355_row4_col1\" class=\"data row4 col1\" >float/CPU</td>\n",
       "      <td id=\"T_32355_row4_col2\" class=\"data row4 col2\" >16</td>\n",
       "      <td id=\"T_32355_row4_col3\" class=\"data row4 col3\" >0.150000</td>\n",
       "      <td id=\"T_32355_row4_col4\" class=\"data row4 col4\" >0.000000</td>\n",
       "      <td id=\"T_32355_row4_col5\" class=\"data row4 col5\" >0.000056</td>\n",
       "    </tr>\n",
       "  </tbody>\n",
       "</table>\n"
      ],
      "text/plain": [
       "<pandas.io.formats.style.Styler at 0x7163142680b0>"
      ]
     },
     "metadata": {},
     "output_type": "display_data"
    }
   ],
   "source": [
    "display_df_mono(render_csv(\"metrics/small.csv\"))"
   ]
  },
  {
   "cell_type": "code",
   "execution_count": null,
   "id": "e7b788b5-f68a-4961-86dc-5b3f9c6e238c",
   "metadata": {},
   "outputs": [],
   "source": []
  }
 ],
 "metadata": {
  "kernelspec": {
   "display_name": "Python 3 (ipykernel)",
   "language": "python",
   "name": "python3"
  },
  "language_info": {
   "codemirror_mode": {
    "name": "ipython",
    "version": 3
   },
   "file_extension": ".py",
   "mimetype": "text/x-python",
   "name": "python",
   "nbconvert_exporter": "python",
   "pygments_lexer": "ipython3",
   "version": "3.12.3"
  },
  "widgets": {
   "application/vnd.jupyter.widget-state+json": {
    "state": {},
    "version_major": 2,
    "version_minor": 0
   }
  }
 },
 "nbformat": 4,
 "nbformat_minor": 5
}
